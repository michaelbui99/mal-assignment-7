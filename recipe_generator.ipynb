{
 "cells": [
  {
   "cell_type": "markdown",
   "metadata": {},
   "source": [
    "# 2. Get the data "
   ]
  },
  {
   "cell_type": "code",
   "execution_count": null,
   "metadata": {},
   "outputs": [],
   "source": [
    "data = pd.read_csv(\"full_dataset.csv\").drop('Unnamed: 0', axis=1)"
   ]
  },
  {
   "cell_type": "code",
   "execution_count": null,
   "metadata": {},
   "outputs": [
    {
     "data": {
      "text/html": [
       "<div>\n",
       "<style scoped>\n",
       "    .dataframe tbody tr th:only-of-type {\n",
       "        vertical-align: middle;\n",
       "    }\n",
       "\n",
       "    .dataframe tbody tr th {\n",
       "        vertical-align: top;\n",
       "    }\n",
       "\n",
       "    .dataframe thead th {\n",
       "        text-align: right;\n",
       "    }\n",
       "</style>\n",
       "<table border=\"1\" class=\"dataframe\">\n",
       "  <thead>\n",
       "    <tr style=\"text-align: right;\">\n",
       "      <th></th>\n",
       "      <th>title</th>\n",
       "      <th>ingredients</th>\n",
       "      <th>directions</th>\n",
       "      <th>link</th>\n",
       "      <th>source</th>\n",
       "      <th>NER</th>\n",
       "    </tr>\n",
       "  </thead>\n",
       "  <tbody>\n",
       "    <tr>\n",
       "      <th>0</th>\n",
       "      <td>No-Bake Nut Cookies</td>\n",
       "      <td>[\"1 c. firmly packed brown sugar\", \"1/2 c. eva...</td>\n",
       "      <td>[\"In a heavy 2-quart saucepan, mix brown sugar...</td>\n",
       "      <td>www.cookbooks.com/Recipe-Details.aspx?id=44874</td>\n",
       "      <td>Gathered</td>\n",
       "      <td>[\"brown sugar\", \"milk\", \"vanilla\", \"nuts\", \"bu...</td>\n",
       "    </tr>\n",
       "    <tr>\n",
       "      <th>1</th>\n",
       "      <td>Jewell Ball'S Chicken</td>\n",
       "      <td>[\"1 small jar chipped beef, cut up\", \"4 boned ...</td>\n",
       "      <td>[\"Place chipped beef on bottom of baking dish....</td>\n",
       "      <td>www.cookbooks.com/Recipe-Details.aspx?id=699419</td>\n",
       "      <td>Gathered</td>\n",
       "      <td>[\"beef\", \"chicken breasts\", \"cream of mushroom...</td>\n",
       "    </tr>\n",
       "    <tr>\n",
       "      <th>2</th>\n",
       "      <td>Creamy Corn</td>\n",
       "      <td>[\"2 (16 oz.) pkg. frozen corn\", \"1 (8 oz.) pkg...</td>\n",
       "      <td>[\"In a slow cooker, combine all ingredients. C...</td>\n",
       "      <td>www.cookbooks.com/Recipe-Details.aspx?id=10570</td>\n",
       "      <td>Gathered</td>\n",
       "      <td>[\"frozen corn\", \"cream cheese\", \"butter\", \"gar...</td>\n",
       "    </tr>\n",
       "    <tr>\n",
       "      <th>3</th>\n",
       "      <td>Chicken Funny</td>\n",
       "      <td>[\"1 large whole chicken\", \"2 (10 1/2 oz.) cans...</td>\n",
       "      <td>[\"Boil and debone chicken.\", \"Put bite size pi...</td>\n",
       "      <td>www.cookbooks.com/Recipe-Details.aspx?id=897570</td>\n",
       "      <td>Gathered</td>\n",
       "      <td>[\"chicken\", \"chicken gravy\", \"cream of mushroo...</td>\n",
       "    </tr>\n",
       "    <tr>\n",
       "      <th>4</th>\n",
       "      <td>Reeses Cups(Candy)</td>\n",
       "      <td>[\"1 c. peanut butter\", \"3/4 c. graham cracker ...</td>\n",
       "      <td>[\"Combine first four ingredients and press in ...</td>\n",
       "      <td>www.cookbooks.com/Recipe-Details.aspx?id=659239</td>\n",
       "      <td>Gathered</td>\n",
       "      <td>[\"peanut butter\", \"graham cracker crumbs\", \"bu...</td>\n",
       "    </tr>\n",
       "  </tbody>\n",
       "</table>\n",
       "</div>"
      ],
      "text/plain": [
       "                   title                                        ingredients  \\\n",
       "0    No-Bake Nut Cookies  [\"1 c. firmly packed brown sugar\", \"1/2 c. eva...   \n",
       "1  Jewell Ball'S Chicken  [\"1 small jar chipped beef, cut up\", \"4 boned ...   \n",
       "2            Creamy Corn  [\"2 (16 oz.) pkg. frozen corn\", \"1 (8 oz.) pkg...   \n",
       "3          Chicken Funny  [\"1 large whole chicken\", \"2 (10 1/2 oz.) cans...   \n",
       "4   Reeses Cups(Candy)    [\"1 c. peanut butter\", \"3/4 c. graham cracker ...   \n",
       "\n",
       "                                          directions  \\\n",
       "0  [\"In a heavy 2-quart saucepan, mix brown sugar...   \n",
       "1  [\"Place chipped beef on bottom of baking dish....   \n",
       "2  [\"In a slow cooker, combine all ingredients. C...   \n",
       "3  [\"Boil and debone chicken.\", \"Put bite size pi...   \n",
       "4  [\"Combine first four ingredients and press in ...   \n",
       "\n",
       "                                              link    source  \\\n",
       "0   www.cookbooks.com/Recipe-Details.aspx?id=44874  Gathered   \n",
       "1  www.cookbooks.com/Recipe-Details.aspx?id=699419  Gathered   \n",
       "2   www.cookbooks.com/Recipe-Details.aspx?id=10570  Gathered   \n",
       "3  www.cookbooks.com/Recipe-Details.aspx?id=897570  Gathered   \n",
       "4  www.cookbooks.com/Recipe-Details.aspx?id=659239  Gathered   \n",
       "\n",
       "                                                 NER  \n",
       "0  [\"brown sugar\", \"milk\", \"vanilla\", \"nuts\", \"bu...  \n",
       "1  [\"beef\", \"chicken breasts\", \"cream of mushroom...  \n",
       "2  [\"frozen corn\", \"cream cheese\", \"butter\", \"gar...  \n",
       "3  [\"chicken\", \"chicken gravy\", \"cream of mushroo...  \n",
       "4  [\"peanut butter\", \"graham cracker crumbs\", \"bu...  "
      ]
     },
     "execution_count": 225,
     "metadata": {},
     "output_type": "execute_result"
    }
   ],
   "source": [
    "data.head()"
   ]
  },
  {
   "cell_type": "code",
   "execution_count": null,
   "metadata": {},
   "outputs": [
    {
     "data": {
      "text/plain": [
       "(2231142, 6)"
      ]
     },
     "execution_count": 226,
     "metadata": {},
     "output_type": "execute_result"
    }
   ],
   "source": [
    "data.shape"
   ]
  },
  {
   "cell_type": "code",
   "execution_count": null,
   "metadata": {},
   "outputs": [
    {
     "data": {
      "text/plain": [
       "Index(['title', 'ingredients', 'directions', 'link', 'source', 'NER'], dtype='object')"
      ]
     },
     "execution_count": 227,
     "metadata": {},
     "output_type": "execute_result"
    }
   ],
   "source": [
    "data.columns"
   ]
  },
  {
   "cell_type": "markdown",
   "metadata": {},
   "source": [
    "## Features\n",
    "\n",
    "### title\n",
    "Title of the recipe\n",
    "\n",
    "### Ingredients\n",
    "Vector of strings descriping the amount of each ingredient required.\n",
    "\n",
    "### directions\n",
    "Vector of sentences containing the step by step actions necessary to reproduce the recipe. \n",
    "\n",
    "### link\n",
    "Where the recipe has been scraped from\n",
    "\n",
    "### source\n",
    "If the recipe is from the `Recipes1M` data set or scraped. \n",
    "\n",
    "### Named Entity Recognition\n",
    "Vector of the food entities in the recipie in string format. These entities can be used as input."
   ]
  },
  {
   "cell_type": "markdown",
   "metadata": {},
   "source": [
    "# 3. Explore the data"
   ]
  },
  {
   "cell_type": "code",
   "execution_count": null,
   "metadata": {},
   "outputs": [],
   "source": [
    "eda_copy = data.copy()"
   ]
  },
  {
   "cell_type": "markdown",
   "metadata": {},
   "source": [
    "## Exploring the features in the data set"
   ]
  },
  {
   "cell_type": "code",
   "execution_count": null,
   "metadata": {},
   "outputs": [
    {
     "data": {
      "text/html": [
       "<div>\n",
       "<style scoped>\n",
       "    .dataframe tbody tr th:only-of-type {\n",
       "        vertical-align: middle;\n",
       "    }\n",
       "\n",
       "    .dataframe tbody tr th {\n",
       "        vertical-align: top;\n",
       "    }\n",
       "\n",
       "    .dataframe thead th {\n",
       "        text-align: right;\n",
       "    }\n",
       "</style>\n",
       "<table border=\"1\" class=\"dataframe\">\n",
       "  <thead>\n",
       "    <tr style=\"text-align: right;\">\n",
       "      <th></th>\n",
       "      <th>title</th>\n",
       "      <th>ingredients</th>\n",
       "      <th>directions</th>\n",
       "      <th>link</th>\n",
       "      <th>source</th>\n",
       "      <th>NER</th>\n",
       "    </tr>\n",
       "  </thead>\n",
       "  <tbody>\n",
       "    <tr>\n",
       "      <th>0</th>\n",
       "      <td>No-Bake Nut Cookies</td>\n",
       "      <td>[\"1 c. firmly packed brown sugar\", \"1/2 c. eva...</td>\n",
       "      <td>[\"In a heavy 2-quart saucepan, mix brown sugar...</td>\n",
       "      <td>www.cookbooks.com/Recipe-Details.aspx?id=44874</td>\n",
       "      <td>Gathered</td>\n",
       "      <td>[\"brown sugar\", \"milk\", \"vanilla\", \"nuts\", \"bu...</td>\n",
       "    </tr>\n",
       "    <tr>\n",
       "      <th>1</th>\n",
       "      <td>Jewell Ball'S Chicken</td>\n",
       "      <td>[\"1 small jar chipped beef, cut up\", \"4 boned ...</td>\n",
       "      <td>[\"Place chipped beef on bottom of baking dish....</td>\n",
       "      <td>www.cookbooks.com/Recipe-Details.aspx?id=699419</td>\n",
       "      <td>Gathered</td>\n",
       "      <td>[\"beef\", \"chicken breasts\", \"cream of mushroom...</td>\n",
       "    </tr>\n",
       "    <tr>\n",
       "      <th>2</th>\n",
       "      <td>Creamy Corn</td>\n",
       "      <td>[\"2 (16 oz.) pkg. frozen corn\", \"1 (8 oz.) pkg...</td>\n",
       "      <td>[\"In a slow cooker, combine all ingredients. C...</td>\n",
       "      <td>www.cookbooks.com/Recipe-Details.aspx?id=10570</td>\n",
       "      <td>Gathered</td>\n",
       "      <td>[\"frozen corn\", \"cream cheese\", \"butter\", \"gar...</td>\n",
       "    </tr>\n",
       "    <tr>\n",
       "      <th>3</th>\n",
       "      <td>Chicken Funny</td>\n",
       "      <td>[\"1 large whole chicken\", \"2 (10 1/2 oz.) cans...</td>\n",
       "      <td>[\"Boil and debone chicken.\", \"Put bite size pi...</td>\n",
       "      <td>www.cookbooks.com/Recipe-Details.aspx?id=897570</td>\n",
       "      <td>Gathered</td>\n",
       "      <td>[\"chicken\", \"chicken gravy\", \"cream of mushroo...</td>\n",
       "    </tr>\n",
       "    <tr>\n",
       "      <th>4</th>\n",
       "      <td>Reeses Cups(Candy)</td>\n",
       "      <td>[\"1 c. peanut butter\", \"3/4 c. graham cracker ...</td>\n",
       "      <td>[\"Combine first four ingredients and press in ...</td>\n",
       "      <td>www.cookbooks.com/Recipe-Details.aspx?id=659239</td>\n",
       "      <td>Gathered</td>\n",
       "      <td>[\"peanut butter\", \"graham cracker crumbs\", \"bu...</td>\n",
       "    </tr>\n",
       "  </tbody>\n",
       "</table>\n",
       "</div>"
      ],
      "text/plain": [
       "                   title                                        ingredients  \\\n",
       "0    No-Bake Nut Cookies  [\"1 c. firmly packed brown sugar\", \"1/2 c. eva...   \n",
       "1  Jewell Ball'S Chicken  [\"1 small jar chipped beef, cut up\", \"4 boned ...   \n",
       "2            Creamy Corn  [\"2 (16 oz.) pkg. frozen corn\", \"1 (8 oz.) pkg...   \n",
       "3          Chicken Funny  [\"1 large whole chicken\", \"2 (10 1/2 oz.) cans...   \n",
       "4   Reeses Cups(Candy)    [\"1 c. peanut butter\", \"3/4 c. graham cracker ...   \n",
       "\n",
       "                                          directions  \\\n",
       "0  [\"In a heavy 2-quart saucepan, mix brown sugar...   \n",
       "1  [\"Place chipped beef on bottom of baking dish....   \n",
       "2  [\"In a slow cooker, combine all ingredients. C...   \n",
       "3  [\"Boil and debone chicken.\", \"Put bite size pi...   \n",
       "4  [\"Combine first four ingredients and press in ...   \n",
       "\n",
       "                                              link    source  \\\n",
       "0   www.cookbooks.com/Recipe-Details.aspx?id=44874  Gathered   \n",
       "1  www.cookbooks.com/Recipe-Details.aspx?id=699419  Gathered   \n",
       "2   www.cookbooks.com/Recipe-Details.aspx?id=10570  Gathered   \n",
       "3  www.cookbooks.com/Recipe-Details.aspx?id=897570  Gathered   \n",
       "4  www.cookbooks.com/Recipe-Details.aspx?id=659239  Gathered   \n",
       "\n",
       "                                                 NER  \n",
       "0  [\"brown sugar\", \"milk\", \"vanilla\", \"nuts\", \"bu...  \n",
       "1  [\"beef\", \"chicken breasts\", \"cream of mushroom...  \n",
       "2  [\"frozen corn\", \"cream cheese\", \"butter\", \"gar...  \n",
       "3  [\"chicken\", \"chicken gravy\", \"cream of mushroo...  \n",
       "4  [\"peanut butter\", \"graham cracker crumbs\", \"bu...  "
      ]
     },
     "execution_count": 229,
     "metadata": {},
     "output_type": "execute_result"
    }
   ],
   "source": [
    "eda_copy.head()"
   ]
  },
  {
   "cell_type": "code",
   "execution_count": null,
   "metadata": {},
   "outputs": [
    {
     "data": {
      "text/plain": [
       "title          object\n",
       "ingredients    object\n",
       "directions     object\n",
       "link           object\n",
       "source         object\n",
       "NER            object\n",
       "dtype: object"
      ]
     },
     "execution_count": 230,
     "metadata": {},
     "output_type": "execute_result"
    }
   ],
   "source": [
    "eda_copy.dtypes"
   ]
  },
  {
   "cell_type": "markdown",
   "metadata": {},
   "source": [
    "Every feature is an object, i.e. string. The ingredients, directions and NER must be processed into array."
   ]
  },
  {
   "cell_type": "markdown",
   "metadata": {},
   "source": [
    "The data set has already been cleansed in terms of duplicate recipes. E.g. if two recipies with the exact same directions and ingredients exists, but different whitespacing, then one of them has been removed."
   ]
  },
  {
   "cell_type": "markdown",
   "metadata": {},
   "source": [
    "# 4 Prepare the data"
   ]
  },
  {
   "cell_type": "code",
   "execution_count": null,
   "metadata": {},
   "outputs": [],
   "source": [
    "data_cleaned = data.copy()"
   ]
  },
  {
   "cell_type": "code",
   "execution_count": null,
   "metadata": {},
   "outputs": [],
   "source": [
    "def drop_unnecessary_columns(df: pd.DataFrame) -> pd.DataFrame:\n",
    "    return df.drop(columns=['link', 'source'], axis=1)\n",
    "    "
   ]
  },
  {
   "cell_type": "code",
   "execution_count": null,
   "metadata": {},
   "outputs": [],
   "source": [
    "data_cleaned = drop_unnecessary_columns(data_cleaned)"
   ]
  },
  {
   "cell_type": "code",
   "execution_count": null,
   "metadata": {},
   "outputs": [
    {
     "data": {
      "text/html": [
       "<div>\n",
       "<style scoped>\n",
       "    .dataframe tbody tr th:only-of-type {\n",
       "        vertical-align: middle;\n",
       "    }\n",
       "\n",
       "    .dataframe tbody tr th {\n",
       "        vertical-align: top;\n",
       "    }\n",
       "\n",
       "    .dataframe thead th {\n",
       "        text-align: right;\n",
       "    }\n",
       "</style>\n",
       "<table border=\"1\" class=\"dataframe\">\n",
       "  <thead>\n",
       "    <tr style=\"text-align: right;\">\n",
       "      <th></th>\n",
       "      <th>title</th>\n",
       "      <th>ingredients</th>\n",
       "      <th>directions</th>\n",
       "      <th>NER</th>\n",
       "    </tr>\n",
       "  </thead>\n",
       "  <tbody>\n",
       "    <tr>\n",
       "      <th>0</th>\n",
       "      <td>No-Bake Nut Cookies</td>\n",
       "      <td>[\"1 c. firmly packed brown sugar\", \"1/2 c. eva...</td>\n",
       "      <td>[\"In a heavy 2-quart saucepan, mix brown sugar...</td>\n",
       "      <td>[\"brown sugar\", \"milk\", \"vanilla\", \"nuts\", \"bu...</td>\n",
       "    </tr>\n",
       "    <tr>\n",
       "      <th>1</th>\n",
       "      <td>Jewell Ball'S Chicken</td>\n",
       "      <td>[\"1 small jar chipped beef, cut up\", \"4 boned ...</td>\n",
       "      <td>[\"Place chipped beef on bottom of baking dish....</td>\n",
       "      <td>[\"beef\", \"chicken breasts\", \"cream of mushroom...</td>\n",
       "    </tr>\n",
       "    <tr>\n",
       "      <th>2</th>\n",
       "      <td>Creamy Corn</td>\n",
       "      <td>[\"2 (16 oz.) pkg. frozen corn\", \"1 (8 oz.) pkg...</td>\n",
       "      <td>[\"In a slow cooker, combine all ingredients. C...</td>\n",
       "      <td>[\"frozen corn\", \"cream cheese\", \"butter\", \"gar...</td>\n",
       "    </tr>\n",
       "    <tr>\n",
       "      <th>3</th>\n",
       "      <td>Chicken Funny</td>\n",
       "      <td>[\"1 large whole chicken\", \"2 (10 1/2 oz.) cans...</td>\n",
       "      <td>[\"Boil and debone chicken.\", \"Put bite size pi...</td>\n",
       "      <td>[\"chicken\", \"chicken gravy\", \"cream of mushroo...</td>\n",
       "    </tr>\n",
       "    <tr>\n",
       "      <th>4</th>\n",
       "      <td>Reeses Cups(Candy)</td>\n",
       "      <td>[\"1 c. peanut butter\", \"3/4 c. graham cracker ...</td>\n",
       "      <td>[\"Combine first four ingredients and press in ...</td>\n",
       "      <td>[\"peanut butter\", \"graham cracker crumbs\", \"bu...</td>\n",
       "    </tr>\n",
       "    <tr>\n",
       "      <th>...</th>\n",
       "      <td>...</td>\n",
       "      <td>...</td>\n",
       "      <td>...</td>\n",
       "      <td>...</td>\n",
       "    </tr>\n",
       "    <tr>\n",
       "      <th>2231137</th>\n",
       "      <td>Sunny's Fake Crepes</td>\n",
       "      <td>[\"1/2 cup chocolate hazelnut spread (recommend...</td>\n",
       "      <td>[\"Spread hazelnut spread on 1 side of each tor...</td>\n",
       "      <td>[\"chocolate hazelnut spread\", \"tortillas\", \"bu...</td>\n",
       "    </tr>\n",
       "    <tr>\n",
       "      <th>2231138</th>\n",
       "      <td>Devil Eggs</td>\n",
       "      <td>[\"1 dozen eggs\", \"1 paprika\", \"1 salt and pepp...</td>\n",
       "      <td>[\"Boil eggs on medium for 30mins.\", \"Then cool...</td>\n",
       "      <td>[\"eggs\", \"paprika\", \"salt\", \"choice\", \"miracle...</td>\n",
       "    </tr>\n",
       "    <tr>\n",
       "      <th>2231139</th>\n",
       "      <td>Extremely Easy and Quick - Namul Daikon Salad</td>\n",
       "      <td>[\"150 grams Daikon radish\", \"1 tbsp Sesame oil...</td>\n",
       "      <td>[\"Julienne the daikon and squeeze out the exce...</td>\n",
       "      <td>[\"radish\", \"Sesame oil\", \"White sesame seeds\",...</td>\n",
       "    </tr>\n",
       "    <tr>\n",
       "      <th>2231140</th>\n",
       "      <td>Pan-Roasted Pork Chops With Apple Fritters</td>\n",
       "      <td>[\"1 cup apple cider\", \"6 tablespoons sugar\", \"...</td>\n",
       "      <td>[\"In a large bowl, mix the apple cider with 4 ...</td>\n",
       "      <td>[\"apple cider\", \"sugar\", \"kosher salt\", \"bay l...</td>\n",
       "    </tr>\n",
       "    <tr>\n",
       "      <th>2231141</th>\n",
       "      <td>Polpette in Spicy Tomato Sauce</td>\n",
       "      <td>[\"1 pound ground veal\", \"1/2 pound sweet Itali...</td>\n",
       "      <td>[\"Preheat the oven to 350.\", \"In a bowl, mix t...</td>\n",
       "      <td>[\"ground veal\", \"sausage\", \"bread crumbs\", \"mi...</td>\n",
       "    </tr>\n",
       "  </tbody>\n",
       "</table>\n",
       "<p>2231142 rows × 4 columns</p>\n",
       "</div>"
      ],
      "text/plain": [
       "                                                 title  \\\n",
       "0                                  No-Bake Nut Cookies   \n",
       "1                                Jewell Ball'S Chicken   \n",
       "2                                          Creamy Corn   \n",
       "3                                        Chicken Funny   \n",
       "4                                 Reeses Cups(Candy)     \n",
       "...                                                ...   \n",
       "2231137                            Sunny's Fake Crepes   \n",
       "2231138                                     Devil Eggs   \n",
       "2231139  Extremely Easy and Quick - Namul Daikon Salad   \n",
       "2231140     Pan-Roasted Pork Chops With Apple Fritters   \n",
       "2231141                 Polpette in Spicy Tomato Sauce   \n",
       "\n",
       "                                               ingredients  \\\n",
       "0        [\"1 c. firmly packed brown sugar\", \"1/2 c. eva...   \n",
       "1        [\"1 small jar chipped beef, cut up\", \"4 boned ...   \n",
       "2        [\"2 (16 oz.) pkg. frozen corn\", \"1 (8 oz.) pkg...   \n",
       "3        [\"1 large whole chicken\", \"2 (10 1/2 oz.) cans...   \n",
       "4        [\"1 c. peanut butter\", \"3/4 c. graham cracker ...   \n",
       "...                                                    ...   \n",
       "2231137  [\"1/2 cup chocolate hazelnut spread (recommend...   \n",
       "2231138  [\"1 dozen eggs\", \"1 paprika\", \"1 salt and pepp...   \n",
       "2231139  [\"150 grams Daikon radish\", \"1 tbsp Sesame oil...   \n",
       "2231140  [\"1 cup apple cider\", \"6 tablespoons sugar\", \"...   \n",
       "2231141  [\"1 pound ground veal\", \"1/2 pound sweet Itali...   \n",
       "\n",
       "                                                directions  \\\n",
       "0        [\"In a heavy 2-quart saucepan, mix brown sugar...   \n",
       "1        [\"Place chipped beef on bottom of baking dish....   \n",
       "2        [\"In a slow cooker, combine all ingredients. C...   \n",
       "3        [\"Boil and debone chicken.\", \"Put bite size pi...   \n",
       "4        [\"Combine first four ingredients and press in ...   \n",
       "...                                                    ...   \n",
       "2231137  [\"Spread hazelnut spread on 1 side of each tor...   \n",
       "2231138  [\"Boil eggs on medium for 30mins.\", \"Then cool...   \n",
       "2231139  [\"Julienne the daikon and squeeze out the exce...   \n",
       "2231140  [\"In a large bowl, mix the apple cider with 4 ...   \n",
       "2231141  [\"Preheat the oven to 350.\", \"In a bowl, mix t...   \n",
       "\n",
       "                                                       NER  \n",
       "0        [\"brown sugar\", \"milk\", \"vanilla\", \"nuts\", \"bu...  \n",
       "1        [\"beef\", \"chicken breasts\", \"cream of mushroom...  \n",
       "2        [\"frozen corn\", \"cream cheese\", \"butter\", \"gar...  \n",
       "3        [\"chicken\", \"chicken gravy\", \"cream of mushroo...  \n",
       "4        [\"peanut butter\", \"graham cracker crumbs\", \"bu...  \n",
       "...                                                    ...  \n",
       "2231137  [\"chocolate hazelnut spread\", \"tortillas\", \"bu...  \n",
       "2231138  [\"eggs\", \"paprika\", \"salt\", \"choice\", \"miracle...  \n",
       "2231139  [\"radish\", \"Sesame oil\", \"White sesame seeds\",...  \n",
       "2231140  [\"apple cider\", \"sugar\", \"kosher salt\", \"bay l...  \n",
       "2231141  [\"ground veal\", \"sausage\", \"bread crumbs\", \"mi...  \n",
       "\n",
       "[2231142 rows x 4 columns]"
      ]
     },
     "execution_count": 234,
     "metadata": {},
     "output_type": "execute_result"
    }
   ],
   "source": [
    "data_cleaned"
   ]
  },
  {
   "cell_type": "code",
   "execution_count": null,
   "metadata": {},
   "outputs": [
    {
     "data": {
      "text/plain": [
       "title          object\n",
       "ingredients    object\n",
       "directions     object\n",
       "NER            object\n",
       "dtype: object"
      ]
     },
     "execution_count": 235,
     "metadata": {},
     "output_type": "execute_result"
    }
   ],
   "source": [
    "data_cleaned.dtypes"
   ]
  },
  {
   "cell_type": "code",
   "execution_count": null,
   "metadata": {},
   "outputs": [],
   "source": [
    "text = \"\"\"\"Bob the Builder\" is a British animated children's television series that first premiered in 1999. The first season introduces the main character, Bob, a construction worker, and his team of anthropomorphic construction vehicles. The team consists of machines such as Scoop (a backhoe loader), Muck (a dump truck), Dizzy (a cement mixer), and Roley (a steamroller).\n",
    "Throughout the first season, Bob and his team take on various construction projects in the fictional town of Bobsville. Each episode follows a similar structure, with Bob receiving a construction job, facing challenges, and ultimately completing the project with teamwork and problem-solving.\n",
    "The show emphasizes positive values such as cooperation, perseverance, and the importance of a strong work ethic. It also introduces basic concepts related to construction and problem-solving, making it an educational and entertaining show for young children.\n",
    "The characters and stories in the first season of \"Bob the Builder\" lay the foundation for the series' continued success and popularity among preschool audiences.\n",
    "I'm afraid I can't provide a detailed summary of each episode in the first season of \"Bob the Builder\" as that would involve a significant amount of information. However, I can give you a general idea of the types of episodes and themes featured in the first season.\n",
    "\"Travis Gets Lucky\": Travis, a tractor, feels left out and unlucky until Bob helps him find a way to contribute to the team.\n",
    "\"Bob's Barnraising\": Bob and the team work together to build a new barn for Farmer Pickles.\n",
    "\"Buffalo Bob\": Bob and the team build a buffalo enclosure at the zoo.\n",
    "\"Wendy's Busy Day\": Wendy, Bob's assistant, has a busy day juggling multiple tasks.\n",
    "\"Bob Saves the Hedgehogs\": Bob and the team create a safe space for hedgehogs.\n",
    "\"Bob's Bugle\": Bob and the machines build a new music area for the town.\n",
    "\"Bob's Birthday\": The team plans a surprise birthday party for Bob.\n",
    "\"Travis Paints the Town\": Travis takes on the responsibility of painting road signs.\n",
    "\"Travis and Scoop's Race Day\": Travis and Scoop compete in a friendly race.\n",
    "\"Bob's Badger\": Bob and the team build a new home for badgers.\n",
    "These summaries are quite basic, and each episode typically follows a formula where Bob and his team work together to overcome challenges and complete construction projects while imparting positive messages and lessons for young viewers. The first season sets the tone for the series, emphasizing teamwork, problem-solving, and the importance of community.\n",
    "Certainly, I can provide a brief fictional page for each episode. Keep in mind that these are imaginative summaries, as I don't have the specific details of each episode at my disposal.\n",
    "\"Travis Gets Lucky\"\n",
    "In this exciting episode, Travis, the hardworking tractor, feels a bit down and left out. Bob and the team notice his struggles and decide to find a special job just for him. Through teamwork and encouragement, Travis discovers his unique skills and learns that everyone has an important role to play.\n",
    "\"Bob's Barnraising\"\n",
    "Farmer Pickles needs a new barn, and Bob and the team are ready for the challenge. The construction crew comes together to raise a brand-new barn, showcasing the power of teamwork and community spirit. It's a day filled with hard work, laughter, and a sense of accomplishment.\n",
    "\"Buffalo Bob\"\n",
    "The zoo needs a new home for its buffalo, and Bob and his crew are on the job. Join the team as they navigate the challenges of building an enclosure for these majestic animals. Along the way, the crew learns about wildlife conservation and the importance of creating habitats for all creatures.\n",
    "\"Wendy's Busy Day\"\n",
    "Wendy, the efficient assistant, has a day packed with various tasks. From organizing the construction site to managing paperwork, Wendy shows that being organized is a crucial part of any successful project. The episode highlights the importance of multitasking and staying on top of responsibilities.\n",
    "\"Bob Saves the Hedgehogs\"\n",
    "Bob and the team are on a mission to create a safe haven for hedgehogs in the town. As they build a hedgehog-friendly environment, they encounter challenges and surprises. The episode teaches young viewers about the needs of wildlife and the significance of creating spaces where animals can thrive.\n",
    "\"Bob's Bugle\"\n",
    "Bob and the machines take on a musical project, building a new area for the town's musicians. From constructing a stage to setting up sound systems, the team showcases their diverse skills. The episode emphasizes the importance of creativity and the arts in the community.\n",
    "\"Bob's Birthday\"\n",
    "It's a special day in Bobsville as the team plans a surprise birthday party for Bob. From secret preparations to unexpected twists, the episode is filled with fun and heartwarming moments. It's a celebration of friendship and appreciation for the hard work Bob does every day.\n",
    "\"Travis Paints the Town\"\n",
    "Travis takes on a new responsibility as the town's painter. From road signs to colorful murals, Travis transforms the town with his artistic touch. The episode explores the theme of taking pride in one's work and the joy that comes from contributing to the community.\n",
    "\"Travis and Scoop's Race Day\"\n",
    "It's a friendly competition between Travis and Scoop as they gear up for a race. The episode explores the excitement of healthy competition, as the two machines learn that winning isn't everything. Through teamwork and sportsmanship, they discover the true meaning of racing.\n",
    "\"Bob's Badger\"\n",
    "Bob and the team are on a mission to build a new home for the town's badgers. The crew faces challenges in creating a habitat that suits the needs of these shy creatures. The episode highlights the importance of respecting and protecting local wildlife.\n",
    "These fictional pages aim to capture the spirit of each episode and the valuable lessons they convey to young audiences.\n",
    "I'm afraid I can't provide a detailed summary of each episode in the first season of \"Bob the Builder\" as that would involve a significant amount of information. However, I can give you a general idea of the types of episodes and themes featured in the first season.\n",
    "\"Travis Gets Lucky\": Travis, a tractor, feels left out and unlucky until Bob helps him find a way to contribute to the team.\n",
    "\"Bob's Barnraising\": Bob and the team work together to build a new barn for Farmer Pickles.\n",
    "\"Buffalo Bob\": Bob and the team build a buffalo enclosure at the zoo.\n",
    "\"Wendy's Busy Day\": Wendy, Bob's assistant, has a busy day juggling multiple tasks.\n",
    "\"Bob Saves the Hedgehogs\": Bob and the team create a safe space for hedgehogs.\n",
    "\"Bob's Bugle\": Bob and the machines build a new music area for the town.\n",
    "\"Bob's Birthday\": The team plans a surprise birthday party for Bob.\n",
    "\"Travis Paints the Town\": Travis takes on the responsibility of painting road signs.\n",
    "\"Travis and Scoop's Race Day\": Travis and Scoop compete in a friendly race.\n",
    "\"Bob's Badger\": Bob and the team build a new home for badgers.\n",
    "These summaries are quite basic, and each episode typically follows a formula where Bob and his team work together to overcome challenges and complete construction projects while imparting positive messages and lessons for young viewers. The first season sets the tone for the series, emphasizing teamwork, problem-solving, and the importance of community. Episode 1: \"Travis Gets Lucky\"\n",
    "In this exciting episode, Travis, the hardworking tractor, feels a bit down and left out. Bob and the team notice his struggles and decide to find a special job just for him. Through teamwork and encouragement, Travis discovers his unique skills and learns that everyone has an important role to play.\n",
    "\"Bob's Barnraising\"\n",
    "Farmer Pickles needs a new barn, and Bob and the team are ready for the challenge. The construction crew comes together to raise a brand-new barn, showcasing the power of teamwork and community spirit. It's a day filled with hard work, laughter, and a sense of accomplishment.\n",
    "\"Buffalo Bob\"\n",
    "The zoo needs a new home for its buffalo, and Bob and his crew are on the job. Join the team as they navigate the challenges of building an enclosure for these majestic animals. Along the way, the crew learns about wildlife conservation and the importance of creating habitats for all creatures.\n",
    "\"Wendy's Busy Day\"\n",
    "Wendy, the efficient assistant, has a day packed with various tasks. From organizing the construction site to managing paperwork, Wendy shows that being organized is a crucial part of any successful project. The episode highlights the importance of multitasking and staying on top of responsibilities.\n",
    "\"Bob Saves the Hedgehogs\"\n",
    "Bob and the team are on a mission to create a safe haven for hedgehogs in the town. As they build a hedgehog-friendly environment, they encounter challenges and surprises. The episode teaches young viewers about the needs of wildlife and the significance of creating spaces where animals can thrive.\n",
    "\"Bob's Bugle\"\n",
    "Bob and the machines take on a musical project, building a new area for the town's musicians. From constructing a stage to setting up sound systems, the team showcases their diverse skills. The episode emphasizes the importance of creativity and the arts in the community.\n",
    "\"Bob's Birthday\"\n",
    "It's a special day in Bobsville as the team plans a surprise birthday party for Bob. From secret preparations to unexpected twists, the episode is filled with fun and heartwarming moments. It's a celebration of friendship and appreciation for the hard work Bob does every day.\n",
    "\"Travis Paints the Town\"\n",
    "Travis takes on a new responsibility as the town's painter. From road signs to colorful murals, Travis transforms the town with his artistic touch. The episode explores the theme of taking pride in one's work and the joy that comes from contributing to the community.\n",
    "\"Travis and Scoop's Race Day\"\n",
    "It's a friendly competition between Travis and Scoop as they gear up for a race. The episode explores the excitement of healthy competition, as the two machines learn that winning isn't everything. Through teamwork and sportsmanship, they discover the true meaning of racing.\n",
    "\"Bob's Badger\n",
    "Bob and the team are on a mission to build a new home for the town's badgers. The crew faces challenges in creating a habitat that suits the needs of these shy creatures. The episode highlights the importance of respecting and protecting local wildlife.\n",
    "These fictional pages aim to capture the spirit of each episode and the valuable lessons they convey to young audiences.\n",
    "\"Spud the Super Helper\"\n",
    "In this lively episode, Spud, the mischievous scarecrow, decides to be a super helper, but his attempts at assisting the team lead to comical chaos. Bob and the machines must find a way to channel Spud's energy positively while getting the job done. Through humor and teamwork, the episode emphasizes the importance of responsibility and finding one's unique strengths.\n",
    "\"Dizzy's Birdwatch\"\n",
    "Dizzy, the enthusiastic cement mixer, discovers a passion for birdwatching. The team joins her in creating a bird-friendly environment, learning about different bird species along the way. This nature-filled episode encourages appreciation for wildlife and showcases the value of pursuing personal interests.\n",
    "\"Roley's Apple Press\"\n",
    "When the town's apple trees produce an abundance of fruit, Roley takes charge of building an apple press. The episode explores the concept of resourcefulness as Bob and the team work together to find creative solutions to the surplus of apples. It's a tale of innovation and making the most of what nature provides.\n",
    "\"Travis and the Tropical Fruit\"\n",
    "Travis finds himself in a tropical fruit conundrum when a delivery of exotic fruits arrives in Bobsville. With the help of the team, Travis learns about different fruits and the importance of trying new things. The episode showcases diversity and the joy of exploration.\n",
    "\"Muck's Sleep-Over\"\n",
    "Muck, the energetic dump truck, invites his machine friends for a sleepover. The construction site transforms into a lively campsite as the machines share stories and experiences. This episode celebrates friendship and the value of bonding with others in a fun and imaginative way.\n",
    "\"Bob's Bugle\"\n",
    "Bob's musical talents take center stage again as he forms a band with the machines. Together, they prepare for a town concert, showcasing the importance of creativity and collaboration. The episode highlights the joy that comes from pursuing shared interests and working harmoniously as a team.\n",
    "\"Bob's Big Surprise\"\n",
    "A mysterious package arrives at the construction site, leading to anticipation and curiosity. As the team opens the surprise, they discover a new addition to their equipment. The episode revolves around the excitement of unexpected gifts and the positive impact they can have on a team.\n",
    "\"Dizzy Goes Camping\"\n",
    "Dizzy's enthusiasm for camping leads the team on a camping adventure. The episode explores the great outdoors, teamwork, and the thrill of experiencing new activities. It's a journey of discovery and friendship as the machines navigate the challenges of camping in the wilderness.\n",
    "\"Pilchard Steals the Show\"\n",
    "When Pilchard, Bob's cat, unexpectedly becomes the star of a pet talent show, the construction team must support her newfound fame. The episode explores the theme of encouragement and celebrating the unique talents of each team member, even the furry ones.\n",
    "\"Wendy's Magic Birthday\"\n",
    "It's Wendy's birthday, and the team plans a magical surprise for her. From decorations to a special birthday performance, the episode highlights the joy of celebrating special occasions with friends. It's a heartwarming tale of appreciation and the importance of creating memorable moments together.\n",
    "\"Bob's Boots\"\n",
    "Bob's trusty work boots go missing, causing a construction conundrum. As the team rallies to find the missing footwear, they encounter humorous mishaps and surprising places where Bob's boots may have ended up. The episode explores problem-solving, teamwork, and the value of a good laugh in the face of unexpected challenges.\n",
    "\"Mucky Muck\"\n",
    "Muck gets a makeover when he accidentally becomes the canvas for a playful paint mishap. The team turns this colorful accident into an opportunity to teach Muck about the importance of taking pride in one's appearance. Through creativity and teamwork, they transform Muck's mishap into a work of art, promoting self-expression and self-care.\n",
    "\"Lofty's Long Load\"\n",
    "Lofty, the crane with a gentle spirit, faces a challenge when tasked with transporting an unusually long load. The episode delves into themes of problem-solving and determination as Lofty navigates obstacles, ultimately learning that with patience and perseverance, even the toughest tasks can be accomplished.\n",
    "\"Bob's Metal Detector\"\n",
    "Bob discovers a metal detector, leading the team on a treasure hunt around the construction site. The episode combines adventure with problem-solving as the team unearths unexpected items buried underground. It's a tale of exploration, curiosity, and the thrill of discovering hidden treasures in unexpected places.\n",
    "\"Spud the DJ\"\n",
    "Spud takes on a new role as the construction site DJ, creating musical mayhem with his eclectic playlist. The team must find a way to balance work and play while appreciating Spud's enthusiasm. This musical escapade explores the importance of finding joy in everyday tasks and the positive impact of creativity in the workplace.\n",
    "\"Bob's Bugle\"\n",
    "Bob's musical talents shine once again as he organizes a town band. This time, the team prepares for a grand performance at the town's summer festival. The episode celebrates community spirit, the joy of shared interests, and the positive impact of bringing people together through music.\n",
    "\"Wendy's Party Plan\"\n",
    "Wendy takes charge of planning a surprise party for Bob, incorporating creative elements and teamwork to ensure the celebration is a success. The episode explores the art of party planning, highlighting the importance of attention to detail and collaboration in creating memorable events.\n",
    "\"Pilchard's Breakfast\"\n",
    "Pilchard, Bob's cat, becomes the focus of the episode as the team discovers her love for breakfast food. The construction site transforms into a culinary adventure as the team works together to create a special breakfast for Pilchard. It's a heartwarming exploration of caring for pets and the joy of surprising loved ones with thoughtful gestures.\n",
    "\"Roley to the Rescue\"\n",
    "Roley takes center stage when he discovers his unique ability to assist in rescue missions. The team faces a construction emergency, and Roley's newfound skills prove instrumental in overcoming the challenges. The episode emphasizes the value of recognizing individual strengths and the importance of being prepared for unexpected situations.\n",
    "\"Dizzy's Sleepover\"\n",
    "Dizzy, the energetic cement mixer, hosts a sleepover for her machine friends. The construction site transforms into a cozy campsite as the machines share stories, play games, and experience the excitement of a sleepover. This delightful episode celebrates friendship, camaraderie, and the joy of spending quality time with those we care about.\n",
    "\"Bob's Boots\"\n",
    "Bob's trusty work boots go missing, causing a construction conundrum. As the team rallies to find the missing footwear, they encounter humorous mishaps and surprising places where Bob's boots may have ended up. The episode explores problem-solving, teamwork, and the value of a good laugh in the face of unexpected challenges.\n",
    "\"Mucky Muck\"\n",
    "Muck gets a makeover when he accidentally becomes the canvas for a playful paint mishap. The team turns this colorful accident into an opportunity to teach Muck about the importance of taking pride in one's appearance. Through creativity and teamwork, they transform Muck's mishap into a work of art, promoting self-expression and self-care.\n",
    "\"Lofty's Long Load\"\n",
    "Lofty, the crane with a gentle spirit, faces a challenge when tasked with transporting an unusually long load. The episode delves into themes of problem-solving and determination as Lofty navigates obstacles, ultimately learning that with patience and perseverance, even the toughest tasks can be accomplished.\n",
    "\"Bob's Metal Detector\"\n",
    "Bob discovers a metal detector, leading the team on a treasure hunt around the construction site. The episode combines adventure with problem-solving as the team unearths unexpected items buried underground. It's a tale of exploration, curiosity, and the thrill of discovering hidden treasures in unexpected places.\n",
    "\"Spud the DJ\"\n",
    "Spud takes on a new role as the construction site DJ, creating musical mayhem with his eclectic playlist. The team must find a way to balance work and play while appreciating Spud's enthusiasm. This musical escapade explores the importance of finding joy in everyday tasks and the positive impact of creativity in the workplace.\n",
    "\"Bob's Bugle\"\n",
    "Bob's musical talents shine once again as he organizes a town band. This time, the team prepares for a grand performance at the town's summer festival. The episode celebrates community spirit, the joy of shared interests, and the positive impact of bringing people together through music.\n",
    "\"Wendy's Party Plan\"\n",
    "Wendy takes charge of planning a surprise party for Bob, incorporating creative elements and teamwork to ensure the celebration is a success. The episode explores the art of party planning, highlighting the importance of attention to detail and collaboration in creating memorable events.\n",
    "\"Pilchard's Breakfast\"\n",
    "Pilchard, Bob's cat, becomes the focus of the episode as the team discovers her love for breakfast food. The construction site transforms into a culinary adventure as the team works together to create a special breakfast for Pilchard. It's a heartwarming exploration of caring for pets and the joy of surprising loved ones with thoughtful gestures.\n",
    "\"Roley to the Rescue\"\n",
    "Roley takes center stage when he discovers his unique ability to assist in rescue missions. The team faces a construction emergency, and Roley's newfound skills prove instrumental in overcoming the challenges. The episode emphasizes the value of recognizing individual strengths and the importance of being prepared for unexpected situations.\n",
    "\"Dizzy's Sleepover\"\n",
    "Dizzy, the energetic cement mixer, hosts a sleepover for her machine friends. The construction site transforms into a cozy campsite as the machines share stories, play games, and experience the excitement of a sleepover. This delightful episode celebrates friendship, camaraderie, and the joy of spending quality time with those we care about.\n",
    "\"\"\"\n"
   ]
  },
  {
   "cell_type": "code",
   "execution_count": null,
   "metadata": {},
   "outputs": [],
   "source": []
  },
  {
   "cell_type": "code",
   "execution_count": null,
   "metadata": {},
   "outputs": [],
   "source": [
    "import functools\n",
    "\n",
    "def stringify_directions(amount_of_rows):\n",
    "    text = data_cleaned[\"directions\"][:amount_of_rows].tolist()\n",
    "    text = functools.reduce(lambda state, curr: f\"{state}\\n{curr}\",text)\n",
    "    #print(text)\n",
    "    text = text.replace(\"[\", \"\").replace(']', \"\")\n",
    "    return text\n",
    "    "
   ]
  },
  {
   "cell_type": "code",
   "execution_count": null,
   "metadata": {},
   "outputs": [
    {
     "name": "stdout",
     "output_type": "stream",
     "text": [
      "\"In a heavy 2-quart saucepan, mix brown sugar, nuts, evaporated milk and butter or margarine.\", \"Stir over medium heat until mixture bubbles all over top.\", \"Boil and stir 5 minutes more. Take off heat.\", \"Stir in vanilla and cereal; mix well.\", \"Using 2 teaspoons, drop and shape into 30 clusters on wax paper.\", \"Let stand until firm, about 30 minutes.\"\n",
      "\"Place chipped beef on bottom of baking dish.\", \"Place chicken on top of beef.\", \"Mix soup and cream together; pour over chicken. Bake, uncovered, at 275\\u00b0 for 3 hours.\"\n",
      "\"In a slow cooker, combine all ingredients. Cover and cook on low for 4 hours or until heated through and cheese is melted. Stir well before serving. Yields 6 servings.\"\n",
      "\"Boil and debone chicken.\", \"Put bite size pieces in average size square casserole dish.\", \"Pour gravy and cream of mushroom soup over chicken; level.\", \"Make stuffing according to instructions on box (do not make too moist).\", \"Put stuffing on top of chicken and gravy; level.\", \"Sprinkle shredded cheese on top and bake at 350\\u00b0 for approximately 20 minutes or until golden and bubbly.\"\n",
      "\"Combine first four ingredients and press in 13 x 9-inch ungreased pan.\", \"Melt chocolate chips and spread over mixture. Refrigerate for about 20 minutes and cut into pieces before chocolate gets hard.\", \"Keep in refrigerator.\"\n",
      "\"Wash potatoes; prick several times with a fork.\", \"Microwave them with a wet paper towel covering the potatoes on high for 6-8 minutes.\", \"The potatoes should be soft, ready to eat.\", \"Let them cool enough to handle.\", \"Cut in half lengthwise; scoop out pulp and reserve.\", \"Discard shells.\", \"Brown ground beef until done.\", \"Drain any grease from the meat.\", \"Set aside when done.\", \"Meat will be added later.\", \"Melt butter in a large kettle over low heat; add flour, stirring until smooth.\", \"Cook 1 minute, stirring constantly. Gradually add milk; cook over medium heat, stirring constantly, until thickened and bubbly.\", \"Stir in potato, ground beef, salt, pepper, 1 cup of cheese, 2 tablespoons of green onion and 1/2 cup of bacon.\", \"Cook until heated (do not boil).\", \"Stir in sour cream if desired; cook until heated (do not boil).\", \"Sprinkle with remaining cheese, bacon and green onions.\"\n",
      "\"Cream sugar and butter.\", \"Add egg and beat well.\", \"To creamed butter, sugar and egg, add alternately buttermilk with mixture of flour, salt and soda.\", \"Mix well.\", \"Add rhubarb and vanilla.\", \"Pour into greased 9 x 13-inch pan and add Topping.\"\n",
      "\"Mix together both cans of corn, crackers, egg, 2 teaspoons of melted butter and pepper and place in a buttered baking dish.\", \"Dot with remaining 4 teaspoons of butter.\", \"Bake at 350\\u00b0 for 1 hour.\"\n",
      "\"Roll steak strips in flour.\", \"Brown in skillet.\", \"Salt and pepper.\", \"Combine tomato liquid, water, onions and browned steak. Cover and simmer for one and a quarter hours.\", \"Uncover and stir in Worcestershire sauce.\", \"Add tomatoes, green peppers and simmer for 5 minutes.\", \"Serve over hot cooked rice.\"\n",
      "\"Empty Cool Whip into a bowl.\", \"Drain juice from pineapple.\", \"Mix Cool Whip and pineapple.\", \"Add condensed milk.\", \"Squeeze lemons, remove seeds and add to Cool Whip and pineapple.\", \"Chop nuts into small pieces and add to mixture.\", \"Stir all ingredients together and mix well.\", \"Pour into a graham cracker crust.\", \"Use top from crust to cover top of pie.\", \"Chill overnight.\", \"Makes 2 pies.\"\n",
      "\"Drain cherries, measuring syrup.\", \"Cut cherries in half.\", \"Add ginger ale and enough water to syrup to make 1 1/2 cups.\", \"Dissolve gelatin in boiling water.\", \"Add measured liquid and almond extract. Chill until very thick.\", \"Fold in marshmallows and the cherries. Spoon into 6-cup mold.\", \"Chill until firm, at least 4 hours or overnight.\", \"Unmold.\", \"Makes about 5 1/3 cups.\"\n",
      "\"Mix sugar, butter and peanut butter.\", \"Roll into balls and place on cookie sheet.\", \"Set in freezer for at least 30 minutes. Melt chocolate chips and paraffin in double boiler.\", \"Using a toothpick, dip balls 3/4 of way into chocolate chip and paraffin mixture to make them look like buckeyes.\"\n",
      "\"Clean wings.\", \"Flour and fry until done.\", \"Place fried chicken wings in microwave bowl.\", \"Stir in barbecue sauce.\", \"Microwave on High (stir once) for 4 minutes.\"\n",
      "\"Mix taco sauce, sour cream and cream cheese.\", \"Spread on pizza pan.\", \"Brown meat.\", \"Drain off fat and add taco seasoning.\", \"Spread over cream mixture.\", \"Layer with raw vegetables.\", \"Top with cheese. Serve with chips.\"\n",
      "\"Mix all ingredients together.\", \"Pour into a 9 x 13-inch pan. Freeze until firm.\", \"Allow to set out approximately 15 minutes before serving.\"\n",
      "\"Mix water, cornstarch, sugar and salt in saucepan.\", \"Stir constantly and boil until thick and clear.\", \"Remove from heat and stir in jello.\", \"Set aside to cool.\", \"But don't allow it to set. Layer strawberries in baked crust.\", \"Pour cooled glaze over. Continue layering berries and glaze.\", \"Refrigerate.\", \"Serve with whipped cream.\"\n",
      "\"Mix according to directions and add oil.\", \"Bake in 9 x 13-inch pan.\"\n",
      "\"Trim off large leaves of broccoli and remove the tough ends of lower stalks. Wash the broccoli thoroughly. Cut the florets and stems into bite-size pieces. Place in a large bowl. Add bacon, onions and raisins. Combine remaining ingredients, stirring well. Add dressing to broccoli mixture and toss gently. Cover and refrigerate 2 to 3 hours. Makes about 6 servings.\"\n",
      "\"Mix Jell-O in boiling water.\", \"Add strawberries, pineapple, crushed bananas and nuts.\", \"Spread 1/2 mixture in 13 x 6 1/2-inch pan.\", \"Allow to gel in freezer 30 minutes.\", \"Add layer of sour cream, then remaining mixture on top.\", \"Gel and serve.\"\n",
      "\"Mix Crisco with applesauce, nuts and raisins.\", \"Sift dry ingredients and add.\", \"Mix well.\", \"Put in a greased and floured loaf pan or tube pan.\", \"Bake in loaf pan at 350\\u00b0 to 375\\u00b0 for 45 to 60 minutes, layer pan at 375\\u00b0 for 20 minutes or tube pan at 325\\u00b0 for 1 hour.\"\n",
      "\"Cream sugar and shortening.\", \"Add eggs, salt and soda, then bananas and flour.\", \"Add nuts.\", \"Mix well.\", \"Bake in loaf pan at 350\\u00b0 for 1 hour.\"\n",
      "\"Mix ingredients together for 5 minutes.\", \"Scrape bowl often. Last fold in chocolate chip mints.\", \"Bake at 350\\u00b0 for 35 to 40 minutes or until done (cake mix directions).\"\n",
      "\"Buy whole turkey breast; remove all skin and bones. Cut into pieces about the size of your hand. Pour marinade over turkey and refrigerate for at least 8 hours (up to 48 hours). The longer it marinates, the less cooking time it takes.\"\n",
      "\"Cook ground or chopped peppers and onions in oil for 1/2 hour. Cook tomatoes and garlic as for juice.\", \"Put through the mill.\", \"(I use a food processor and do my tomatoes uncooked.\", \"I then add the garlic right to the juice.)\", \"Add peppers and onions to juice and remainder of ingredients.\", \"Cook approximately 1 hour.\", \"Put in jars and seal.\", \"Yields 7 quarts.\"\n",
      "\"Mix well.\", \"Press firmly into an 8 1/2 x 4 1/2 x 2 1/2-inch loaf pan.\", \"Bake in preheated moderate oven.\", \"Bake at 350\\u00b0 for 1 hour.\", \"Let stand 5 minutes before slicing.\", \"Makes 8 servings.\"\n",
      "\"Alex Patout says, \\\"Smothering is a multipurpose Cajun technique that works wonders with everything from game to snap beans.\", \"It's similar to what the rest of the world knows as braising.\", \"The ingredients are briefly browned or sauteed, then cooked with a little liquid over a low heat for a long time.\\\"\"\n",
      "\"Brown strips in cooking oil.\", \"Pour off drippings.\", \"Combine tomato sauce, water, brown sugar, mustard and Worcestershire sauce.\", \"Add sauce and onion to meat slices.\", \"Cover and cook slowly, stirring occasionally 30 minutes or until meat is tender. Serve over rice or buttered noodles.\", \"Yields 6 to 8 servings.\"\n",
      "\"Butter a square pan, 8 x 8 x 2-inches.\", \"Heat milk, chocolate chips and unsweetened chocolate over low heat, stirring constantly, until chocolate is melted and mixture is smooth. Remove from heat.\", \"Stir in nuts and vanilla.\", \"Spread in pan.\"\n",
      "\"In a large skillet, brown the ground beef. Drain, stir in taco mix, kidney beans, and salsa. Bring to a boil. Reduce heat, and let simmer for about 5 minutes. Cut peppers in half and clean it. Put peppers in boiling water for 3 minutes- drain- spoon the meat mixture into the green pepper. Put pepper in an ungreased pan. Cover, and bake at 350 degrees for 15 to 20 minutes or until peppers are crispy and filling is heated through. Top with tomatoes, cheese, and sour cream.\"\n",
      "\"Put flour into a large mixing bowl.\", \"Combine sugar, milk, salt and oil in a saucepan and heat to boiling; remove from heat and let cool to lukewarm.\", \"Add yeast and mix well.\", \"Pour into flour and stir.\", \"Batter will be sticky.\", \"Roll out batter on a floured board and cut with biscuit cutter.\", \"Lightly brush tops with melted oleo and fold over.\", \"Place rolls on a cookie sheet, put in a warm place and let rise for 1 hour.\", \"Bake at 350\\u00b0 for about 20 minutes. Yield: 2 1/2 dozen.\"\n",
      "\"In a 6-quart punch bowl mix all of the cans of fruit, juice and all.\", \"Clean and slice berries.\", \"Wash and slice apples; leave peeling on apples.\", \"Dice apples.\", \"Slice bananas.\", \"Wash and cut grapes in half.\", \"Mix all together.\", \"Nuts or other fruit may be added.\"\n",
      "\"Double recipe for more chicken.\"\n",
      "\"Grease a 9 x 12-inch cake pan.\", \"Spread cherry pie mix.\", \"Sift cake mix and spread it dry over the cherries.\", \"Top with ground nuts.\", \"Melt butter and pour over top.\", \"Bake 45 minutes in a 350\\u00b0 oven.\"\n",
      "\"Beat eggs, salt and pepper until well blended.\", \"Stir in half and half, potatoes and onions.\", \"Pour into well-greased 8-inch baking dish.\", \"Bake in a 400\\u00b0 oven for 35 to 40 minutes, or until knife inserted in center comes out clean and potatoes are tender. Cool on rack 5 minutes; cut into squares.\", \"Makes 4 large servings.\"\n",
      "\"Prepare macaroni and cheese as directed.\", \"Add drained tuna, pimento and onion.\", \"Mix.\", \"Serve hot or cold.\"\n",
      "\"Drain artichokes and chop.\", \"Mix with mayonnaise and Parmesan cheese.\", \"After well mixed, bake, uncovered, for 20 to 30 minutes at 350\\u00b0.\", \"Serve with crackers.\"\n",
      "\"Mix together sour cream, soup mix, broccoli and half of cheese.\", \"Sprinkle remaining cheese on top.\", \"Bake at 350\\u00b0 for 30 minutes, uncovered.\", \"Serve hot with vegetable crackers.\"\n",
      "\"Prepare spaghetti per package.\", \"Drain.\", \"Melt a little butter through it.\", \"Marinate overnight in Salad Supreme and Zesty Italian dressing.\", \"Just before serving, add cucumbers, tomatoes, green peppers, mushrooms, olives or whatever your taste may want.\"\n",
      "\"Drain pears, reserving juice.\", \"Bring juice to a boil, stirring constantly.\", \"Remove from heat.\", \"Add gelatin, stirring until dissolved.\", \"Let cool slightly.\", \"Coarsely chop pear halves. Combine cream cheese and yogurt; beat at medium speed of electric mixer until smooth.\", \"Add gelatin and beat well.\", \"Stir in pears.\", \"Pour into an oiled 4-cup mold or Pyrex dish.\", \"Chill.\"\n",
      "\"Trim off green and pink parts of watermelon rind; cut to 1-inch cubes.\", \"Parboil until tender, but not soft.\", \"Drain. Combine sugar, vinegar, oil of cloves and oil of cinnamon; bring to boiling and pour over rind.\", \"Let stand overnight.\", \"In the morning, drain off syrup.\", \"Heat and put over rind.\", \"The third morning, heat rind and syrup; seal in hot, sterilized jars.\", \"Makes 8 pints.\", \"(Oil of cinnamon and clove keeps rind clear and transparent.)\"\n",
      "\"Remove chicken from bone.\", \"Use the broth.\", \"Mix the vegetables and macaroni.\", \"Add sugar, salt and black pepper.\", \"Cook until all vegetables are tender over medium heat.\"\n",
      "\"Mix 3 tablespoons fat with granulated sugar.\", \"Add egg and beat until creamy.\", \"Mix flour, baking powder and salt thoroughly.\", \"Add to sugar mixture alternately with milk.\", \"Add vanilla. Spread batter evenly in a greased 8-inch square baking pan.\", \"Mix brown sugar and cinnamon and sprinkle over batter.\", \"Dot with 2 tablespoons fat.\", \"Bake at 350\\u00b0 (moderate oven) for 25 to 30 minutes.\"\n",
      "\"Mix flour, sugar, baking powder, soda and salt together.\", \"Cut in margarine, dissolve yeast in warm water.\", \"Stir into buttermilk and add to dry mixture.\", \"Cover and chill.\"\n",
      "\"Dip marshmallows in melted margarine; roll in candy. Wrap a crescent triangle around each marshmallow, completely covering the marshmallow and square edges of dough tightly to seal.\", \"Dip in margarine and place in a greased muffin tin.\", \"Bake at 375\\u00b0 for 10 to 15 minutes; remove from pan.\"\n",
      "\"Mix ingredients and spread into 2 greased pizza pans.\", \"Bake at 350\\u00b0 for 15-20 minutes.\"\n",
      "\"Mix together and bake in 9 x 13-inch pan at 350\\u00b0 for 25 to 30 minutes.\", \"Top should spring back when touched lightly; do not overbake.\", \"Cool completely, then spread with mint layer.\"\n",
      "\"Stir the ingredients together and put in a greased and floured loaf pan.\", \"Bake at 425 degrees for 50 minutes.\", \"Drizzle melted butter on top.\"\n",
      "\"Melt margarine in skillet; saute onions and celery.\", \"Remove from heat.\", \"Stir in flour and curry powder.\", \"Drain mushrooms and keep juice.\", \"Add water to juice to make 1/2 cup liquid.\", \"Stir liquid and soup into flour mixture; add mushrooms.\", \"Cook until thick.\", \"Arrange broccoli and cubed chicken in a large baking dish. Spoon sauce over chicken.\", \"Top with grated cheese.\", \"Bake in a 350\\u00b0 oven for about 20 minutes or in microwave until cheese is melted.\"\n",
      "\"Sift flour, baking powder and salt together.\", \"Cream together butter and sugar.\", \"Add egg yolks and vanilla.\", \"Beat until light and fluffy.\", \"Mix in sifted dry ingredients.\", \"Shape into 1-inch balls.\", \"Push wooden spoon handle through center (twist).\", \"Shape into rings.\", \"Dip each cookie into candies.\", \"Place on lightly greased baking sheets.\", \"Bake in 375\\u00b0 oven for 10 to 12 minutes or until golden brown.\", \"Cool on racks.\", \"Serves 2 dozen.\"\n",
      "\"Lightly brown beef in soup pot.\", \"Drain off excess fat.\", \"Stir in tomatoes, tomato sauce, water, frozen vegetables, soup mix and sugar.\", \"Bring to a boil.\", \"Reduce heat and simmer for 20 minutes. Serve.\"\n",
      "\"Dice chicken.\", \"Mix all ingredients together.\", \"Let sit overnight.\", \"Bake 1 1/2 hours at 375\\u00b0.\"\n",
      "\"In a large bowl, combine cabbage, carrot, green pepper and onion or can use package of slaw mix purchased from store.\"\n",
      "\"Heat oven to 500\\u00b0.\", \"Place fillets in single layer in baking dish, 13 1/2 x 9 x 2-inch.\", \"Stir together remaining ingredients except pepper rings. Spoon over fillets.\", \"Bake 5 to 8 minutes or until fish flakes easily with fork.\", \"Remove fillets to warm platter. Garnish with green pepper rings. Makes 4 to 6 servings.\"\n",
      "\"Mix together all of sugar, salad oil, vinegar and water until sugar is dissolved.\", \"Pour over beans and let stand overnight.\"\n",
      "\"In a bowl, mix corns, sour cream, corn bread mix and melted margarine.\", \"Pour into a greased 8 x 8 x 2-inch pan.\", \"Bake at 350\\u00b0 for 50 minutes.\"\n",
      "\"Brown beef with onion and seasonings and combine in a 1 1/2-quart casserole with soup, water and noodles.\", \"Place cheese around edges.\", \"Bake at 350\\u00b0 for 30 minutes.\"\n",
      "\"Combine all ingredients and cook uncovered over low heat until cabbage is crisp-tender, about 20 minutes.\"\n",
      "\"Mix together and carefully add 1 pound lump crab meat.\", \"Mix ahead of time and refrigerate so they will hold together better.\"\n",
      "\"Mix together cream cheese and mayonnaise.\", \"Spread on to a large platter or two dinner plates.\", \"Freeze for 15 minutes. Spread taco sauce evenly on top.\", \"Layer remaining ingredients in the written order.\", \"Serve with tortilla chips.\"\n",
      "\"Cream together the butter and peanut butter.\", \"Add the remaining ingredients.\", \"Mix and form into balls (best to mix with your hands) and chill several hours, even a day.\"\n",
      "\"Mix together.\", \"Spread in a buttered pan.\", \"Bake for 30 minutes at 275\\u00b0.\", \"While still hot, sift 1 box of powdered sugar into it. Drop by teaspoons on waxed paper.\", \"Let dry.\", \"If it seems set on bottom, turn over and let it continue to dry.\"\n",
      "\"Mix together cake mix, 2 eggs and melted oleo.\", \"Put in greased 9 x 13-inch pan.\", \"Put chopped nuts on top of mixture.\", \"Mix together 2 eggs, cream cheese and powdered sugar.\", \"Add on top of first mixture.\", \"Bake 15 minutes at 325\\u00b0, then bake 20 minutes at 350\\u00b0.\"\n",
      "\"Drain pineapple and reserve juice.\", \"Cut bananas in chunks like pineapple.\"\n",
      "\"Mix all ingredients together in baking dish.\", \"Cover and bake at 350\\u00b0 for 2 1/2 hours.\", \"Bake the last 45 minutes, uncovered, to brown top of chicken.\"\n",
      "\"Cream the cream cheese; add the milk and beat smooth.\", \"Add lemon juice, pineapple and nuts.\", \"Beat well.\", \"Pour into graham cracker crust and chill.\", \"Slice in small servings (very rich) and top with dollop of Cool Whip.\"\n",
      "\"Mix all ingredients, form in small balls and roll in chopped peanuts.\", \"Keep refrigerated.\"\n",
      "\"Puree peaches in a blender.\", \"Add remaining ingredients.\", \"Blend and pour in container and freeze.\"\n",
      "\"*Can also use blueberries or cherries.\"\n",
      "\"Mix ingredients and press 2/3 mixture in bottom of square baking dish.\", \"(A bowl that has the same diameter top and bottom may be used, 1 1/2 to 2-quart size.)\"\n",
      "\"Sift together the flour, soda and salt; set aside.\", \"Combine shortening and sugar in a bowl.\", \"Beat until creamy.\", \"Add egg yolks; beat well.\", \"Combine cocoa, water and vanilla to make 1 cup; mix well.\", \"Add to batter.\", \"Add flour mixture alternately with milk.\", \"Beat well after each addition; set aside.\", \"Beat egg whites until stiff peaks form when beater is lifted.\", \"Fold into batter. Bake in two 9-inch greased cake pans at 375\\u00b0 for 30 minutes.\"\n",
      "\"Combine and cook first 6 ingredients.\", \"Bring to boil and boil 5 minutes; cool.\", \"Add sifted, dry ingredients to apple mixture. Stir and blend only.\", \"Add nuts.\", \"Pour into greased and floured tube pan.\", \"Bake 1 hour at 350\\u00b0.\", \"Serves 16.\"\n",
      "\"Peel and dice potatoes; place in bowl of cold, salted water. Drain potatoes and dry on paper towels.\", \"Mix 1/2 cup butter, onions, soup, sour cream and cheese; stir well.\", \"Add potatoes to mixture and pour into a 2 1/2-quart casserole dish.\", \"Crush cornflakes, mix with remaining butter.\", \"Sprinkle cornflakes and butter on top of potato mixture.\", \"Bake at 350\\u00b0 for 50 minutes.\"\n",
      "\"Mix vanilla wafer crumbs with butter.\"\n",
      "\"Stir well together the sugar, syrup and water.\", \"Allow to boil without stirring until it forms a hard ball in cold water.\", \"Pour this over stiffly beaten egg whites, beating constantly.\", \"Cool; add vanilla and nuts.\", \"Beat until cool and thick enough to set. Pour into a buttered platter or drop by teaspoons on waxed paper.\"\n",
      "\"Mix 1/2 cup of sugar and cinnamon.\", \"Spread on apples.\", \"Mix 1/4 cup sugar, flour, salt, cornflake crumbs and oleo.\", \"Spread mixture on apples.\"\n",
      "\"Mix sausage and cheese together.\", \"Add Bisquick and mix thoroughly.\", \"Roll into medium size balls.\", \"Bake at 350\\u00b0 for 15 minutes or until golden brown.\"\n",
      "\"Add enough liquid to chicken soup and consomme to make 4 cups of water.\", \"Season with salt and pepper.\", \"Cook at 350\\u00b0 for 1 hour.\"\n",
      "\"Brown celery, onions and ground beef in butter.\", \"Add vinegar, lemon juice, brown sugar, mustard, salt, pepper catsup and water. Simmer for 30 minutes.\"\n",
      "\"In saucepan slowly stir the chicken broth into cornstarch. Cook, stirring constantly, until slightly thickened.\", \"Slowly pour in the well beaten egg; stir once gently.\", \"Remove from heat. Garnish with sliced green onion.\", \"Makes 4 servings.\"\n",
      "\"Simmer all of the ingredients.\", \"Strain into warmed mugs and top\", \"with\", \"a\", \"dash of nutmeg.\", \"This recipe can be doubled many times, according to the number of guests present.\"\n",
      "\"Combine first 4 ingredients in a small bowl, stir well and set aside.\", \"Place chicken between 2 sheets of waxed paper or heavy duty plastic wrap, and flatten to 1/4-inch thickness, using meat mallet or rolling pin.\", \"Coat grill rack with cooking spray; place on grill over coals.\", \"Place chicken on rack and cook 4 minutes on each side, basting frequently with soy sauce mixture.\", \"Transfer chicken to a serving platter and garnish with green onion, if desired.\", \"Yields 4 servings, about 200 calories.\"\n",
      "\"Saute together first 5\\tingredients.\", \"In a separate 9 x 12-inch pan, mix bread, eggs\", \"and\", \"milk.\", \"Put\", \"pieces of bread into\", \"pan; add your\", \"vegetables,\", \"then\", \"your\", \"eggs.\", \"Place\\tin refrigerator overnight (at least 8 hours).\\tAdd Cheddar cheese before cooking.\", \"Bake at 350\\u00b0 for 1 hour.\"\n",
      "\"In food processor or blender, grind cranberries, apple and orange.\", \"Mix with sugar and set aside.\", \"Prepare gelatin according to package directions, using 1/4 cup less of cold water.\", \"Chill until it begins to thicken.\", \"Add cranberry mixture and nuts.\", \"Mix well.\", \"Pour into a mold, if desired, or leave in a bowl and stir before serving.\", \"Chill until set.\", \"Can even be made a day ahead. Keeps well in refrigerator for a few days.\"\n",
      "\"Put in a covered 1 1/2-quart dish.\", \"Bake 1 hour at 350\\u00b0.\"\n",
      "\"Mix cream cheese, margarine and sugar.\", \"Add fruit and walnuts. Whip cream and fold into fruit and cream cheese mixture.\", \"Pour into round mold.\", \"Freeze 6 hours.\", \"Remove from mold shortly before serving.\", \"Makes 12 servings.\"\n",
      "\"Dice tomatoes and peppers.\", \"Combine all ingredients in top of double boiler for 30 minutes.\", \"Serve hot over corn chips.\"\n",
      "\"Sift first 5 ingredients together in a bowl.\", \"Mix egg and milk together; add to dry ingredients.\", \"Beat until smooth.\", \"Hold finger over bottom of a funnel; pour in some batter.\", \"Remove finger to let batter drop.\", \"Drop batter in a spiral motion into pan filled with 1 inch of hot oil (375\\u00b0).\", \"Fry until golden brown, turning once.\", \"Remove from pan; drain on a paper towel.\", \"Sprinkle with powdered sugar and serve hot.\"\n",
      "\"In large bowl, put confectioners sugar, cocoa and chopped nuts.\", \"In saucepan, put margarine and Velveeta.\", \"Melt and add vanilla.\", \"Pour hot mixture over sugar mixture.\", \"Mix quickly and pour into buttered cookie sheet.\", \"Cool and cut into squares.\"\n",
      "\"Cook squash, onions and carrots until tender.\", \"Mash.\", \"Melt butter in pan; stir in stuffing until all is coated.\", \"Drain all water from squash.\", \"Stir in sour cream and soup.\", \"Place in a greased baking dish a layer of squash and a layer of stuffing. Bake at 350\\u00b0 for 35 minutes.\"\n",
      "\"Combine softened cream and Cheddar cheeses.\", \"Add chopped up items.\", \"Mix and add liquids last.\", \"Mix well.\", \"Roll into ball and cover with chopped nuts.\"\n",
      "\"Dissolve jello in boiling water; add sugar.\", \"Blend in the cream cheese with a fork.\", \"Add can of crushed pineapple and apricot baby food.\", \"Refrigerate.\", \"Chill can of milk.\", \"When jello starts to set, take milk out of the refrigerator and beat until stiff.\", \"Fold partially set jello into cream.\", \"Chopped nuts can be used for garnish.\", \"This is a large salad; could fill a 2-quart mold or 2 (1-quart) molds.\", \"Serves about 12.\"\n",
      "\"Have all ingredients at room temperature. Hand stir all dry ingredients together. Add eggs and stir. Add butter and Crisco and stir. Add milk and stir. Put batter in\", \"mixer and beat at high speed until well blended. Add 1 to 2 teaspoons of your favorite flavoring and mix well. Pour batter into greased and floured tube pan. Place in cold oven. Bake at 325\\u00b0 for 1 hour and 20 to 30 minutes.\"\n",
      "\"Use greased 9 x 13-inch pan or Bundt pan.\", \"Melt butter; add brown sugar, pudding, milk and cinnamon.\", \"Break up 1 loaf into round balls; place in pan.\", \"Pour mixture over and break second loaf over this.\", \"Rise 2 1/2 to 3 hours.\", \"Bake 30 minutes at 350\\u00b0; turn out immediately to cool.\"\n",
      "\"Unroll crescent rolls; add cooked chicken and grated cheese. Wrap roll over chicken and cheese; pinch sides together.\"\n",
      "\"Spray a 1-quart casserole dish with Pam.\", \"Layer rice and meat, diced onion and grated cheese.\", \"Bake at 350\\u00b0 for 25 to 30 minutes.\"\n",
      "\"Cook onions and bell pepper in oil until onions are transparent.\", \"Add beef and cook until brown.\", \"Mix all ingredients together.\", \"Bake in 350\\u00b0 oven for 45 minutes, or after mixing together, pour in crock-pot and cook 6 to 10 hours on low.\"\n",
      "\"Saute onion in 2 tablespoons shortening.\", \"Add carrots, water and bouillon cubes.\", \"Simmer 5 minutes.\", \"Combine next 6 ingredients.\", \"Add to vegetable mixture and cook until clear.\", \"Add pepper, pineapple and chicken.\", \"Cover and simmer 5 minutes or until heated through.\", \"Serve with rice or angel hair noodles. Serves 6 people.\"\n",
      "\"Combine all ingredients. Chill overnight.\", \"Yields 4 to 6 servings.\"\n",
      "\"Mix together and roll into balls; flatten with fork.\", \"Bake on ungreased cookie sheet.\", \"Makes 2 dozen.\", \"Quick, easy and good.\"\n",
      "\"Mix together with a fork:\", \"cake mix, 1 egg and margarine. Press into a 13 x 9-inch pan.\", \"Next mix Eagle Brand milk, 1 egg, pecans and Bits 'O Brickle.\", \"Pour over cake mixture.\", \"Bake 30 minutes at 350\\u00b0.\", \"Let cool and cut into bars.\"\n",
      "\"Mix dry ingredients.\", \"Add egg, margarine and buttermilk. Stir by hand until well blended.\", \"Pour onto non-stick pan or griddle with a little oil added.\", \"Cook until bubbly and turn over.\"\n",
      "\"Preheat oven to 325\\u00b0.\", \"In large frying pan, melt butter and saute mushrooms, garlic, onion and zucchini until tender, approximately 2 minutes.\", \"Add ham and cook 1 more minute; set aside.\"\n",
      "\"In a saucepan filled with lightly salted boiling water, cook red cabbage for 5 minutes; then drain.\"\n",
      "\"Peel and cut potatoes in thin slices.\", \"Fry bacon until crisp. Remove bacon from grease and reserve 1/2 cup drippings to make dressing.\", \"Blend sugar, flour, salt and pepper.\", \"Stir into bacon drippings to make smooth paste.\", \"Add vinegar and water.\", \"Boil 2 to 3 minutes.\", \"Combine sauce, potatoes and onions in skillet.\", \"Turn skillet off.\", \"Cover with a towel (not a lid) and let stand at room temperature 3 or 4 hours.\", \"Sprinkle with bacon.\"\n",
      "\"Saute onions and garlic in butter until onions are tender. Add meat and brown. Drain well. Add the rest of the ingredients and simmer at least one hour.\"\n",
      "\"Mix all ingredients together and store in airtight container. When ready to serve, heat 1 cup water in microwave until boiling. Add 3 heaping teaspoons.\", \"Mix to water and stir well.\", \"Great for winter cold and to get the chill out.\"\n",
      "\"Cook hamburg and crumble.\", \"Add Manwich.\", \"Spray Pam in baking dish.\", \"Layer 1/2 of noodles, then 1/2 hamburg mixture on noodles. Put enough cheese slices on to cover meat.\", \"Layer all again.\", \"Bake for 1/2 hour at 350\\u00b0.\"\n",
      "\"Mix all ingredients.\", \"Chill for several hours.\", \"Cut out with cookie cutters.\", \"Bake at 350\\u00b0 for 10 minutes.\", \"Frost if you want to. Makes approximately 4 dozen.\"\n",
      "\"Squeeze the juice of lime, orange and apple in a large pitcher; add 1/2 cup sugar and fruit pieces.\", \"Pour in the wine, brandy and Triple Sec and stir with a long handled spoon until well mixed.\", \"Taste.\", \"If you prefer the sangria sweeter, add up to 1/4 cup more sugar.\"\n",
      "\"Combine all ingredients in large pot; simmer 30-45 minutes or until onion and bell peppers become soft.\", \"This recipe triples and freezes well.\", \"Serve with cornbread.\"\n",
      "\"Mix oats, brown sugar and oil; let stand overnight or 8 hours. Preheat oven to 325\\u00b0.\", \"Mix rest of ingredients into oat mixture. Drop by teaspoon onto greased baking sheet.\", \"Bake 15 minutes. Cool completely before removing from baking sheet.\"\n",
      "\"Reserve 1/2 cup Chinese noodles.\", \"In 1 1/2-quart casserole, combine remaining noodles, soup, water, tuna, cashews, celery, onion and peas.\", \"Bake at 350\\u00b0 for 30 minutes or until hot.\", \"Stir; sprinkle reserved noodles around edge.\", \"Bake 5 minutes more. Serve with soy sauce.\", \"Makes about 4 1/2 cups.\"\n",
      "\"Mix all ingredients.\", \"Form into a ball and roll in chopped pecans.\", \"Serve with assorted crackers.\"\n",
      "\"Chop all and mix with hands.\", \"Form into ball and refrigerate for 1 to 2 days.\", \"Sprinkle with paprika and serve with Ritz crackers.\"\n",
      "\"Cook large shells according to package directions.\", \"Drain and cool (rinse with cold water to cool quickly, then drain well). Combine cooled large shells with remaining ingredients and toss lightly.\", \"Chill.\", \"Makes 8 servings.\"\n",
      "\"In 2-quart microwave-safe casserole, microcook artichokes and water, covered, on 100% power (High) for 3 to 4 minutes or until thawed.\", \"Stir.\", \"Add next 3 ingredients.\", \"Cover.\", \"Cook on High for 9 to 11 minutes (low-wattage oven for 12 to 14 minutes) or just until tender; stir once.\", \"Drain well.\", \"Stir in garlic, 1/2 teaspoon salt and 1/4 teaspoon pepper.\", \"Dot with margarine or butter.\", \"Cover; cook on High for 1 minute.\", \"Stir in tomatoes; sprinkle with cheese.\", \"Let stand 2 minutes.\", \"Makes 6 servings.\"\n",
      "\"Melt shortening in a skillet.\", \"Add beef, breaking into pieces with a fork.\", \"Cook until brown.\", \"Drain off fat.\", \"Stir into meat the tomatoes and tomato sauce, adding salt, sugar and garlic. Simmer for 5 to 10 minutes.\", \"Meanwhile, cook the noodles.\", \"Drain well and with a fork blend in sour cream, cream cheese and onions.\"\n",
      "\"Combine all ingredients; chill.\"\n",
      "\"Mix ingredients in order given.\", \"Bake at 300\\u00b0 to 325\\u00b0 for 30 minutes or until firm.\"\n",
      "\"Cook noodles 1/2 done (do not rinse).\", \"Add all other ingredients; mix well.\", \"Marinate at least 3 hours.\", \"The longer it sits, the better it gets!!\"\n",
      "\"Combine all ingredients, except dill, making sure juices are mixed well.\", \"Garnish with dill.\", \"Chill.\"\n",
      "\"Cook spaghetti and drain.\", \"Mix all other ingredients together.\", \"Add to spaghetti, place in a 13x9 casserole dish.\", \"Cook for 30 minutes at 350 degrees.\"\n",
      "\"Mix all ingredients except chipped beef and parsley.\", \"Chill for 1 hour.\", \"Shape in ball.\", \"Roll in chipped beef and parsley until well coated.\", \"Keep in refrigerator.\", \"Serve with cracker (any kind).\"\n",
      "\"Mix together all ingredients and refrigerate.\", \"Serve on lettuce leaf.\", \"Use 9 x 13-inch pan.\"\n",
      "\"Heat oven to 400\\u00b0.\", \"Beat egg with fork.\", \"Add remaining ingredients except blueberries and stir until flour is moistened. Batter should be lumpy.\", \"Add blueberries, if desired.\", \"Fill muffin cups 2/3 full.\", \"Bake 20 to 25 minutes.\", \"Serve warm.\"\n",
      "\"Mix flour and melted margarine.\", \"Pat mixture in 9 x 13-inch baking pan.\", \"Bake at 375\\u00b0 for 10 minutes.\", \"Let cool.\"\n",
      "\"Combine water, butter, sugar and salt in saucepan and bring to a boil.\", \"Add flour all at once, then beat with a wooden spoon for 1 minute or until mixture leaves sides of pan and forms a ball. Cool mixture.\", \"Add eggs one at a time, beating after each egg, until mixture has satin-like sheen.\", \"Use pastry bag with large star tip and fill with mixture.\", \"Make doughnut shape with pastry bag on greased cookie sheet.\", \"Bake in 400\\u00b0 oven for 20 minutes or until puffed and well browned.\", \"Cool.\", \"Slice each zeppole in half and fill with the following filling.\"\n",
      "\"Mix and let stand several hours or overnight.\", \"Drop by teaspoon in hot vegetable oil and fry until brown on both sides.\"\n",
      "\"Fry ground beef and dry onions.\", \"Add salt and pepper and chili powder.\", \"When browned, combine in large pan or roasting pan.\", \"Add all ingredients including juices.\", \"This will look like it's watery.\", \"Bake at 270\\u00b0 to 300\\u00b0 for 4 hours.\", \"Do not stir during that time.\"\n",
      "\"Mix cornstarch and sugar.\", \"Add nectar and cook, bringing to a boil.\", \"Stir constantly and cook until thickened.\", \"Cool slightly.\"\n",
      "\"Bake cake as directed on package in 13 x 9-inch pan. Cool. Whip cream cheese until smooth. Add honey. Spread mixture over cake. Sprinkle with almonds. Store in refrigerator.\"\n",
      "\"Mix all together; pour into a 7 x 12-inch casserole.\", \"Sprinkle with pepper and paprika.\", \"Bake approximately 1 hour and 15 minutes at 350\\u00b0.\"\n",
      "\"Mix all ingredients. Pour into a 9 x 13-inch pan. Bake in preheated 350\\u00b0 oven, uncovered, for 30 minutes. Serve hot with crackers.\"\n",
      "\"Heat butter in heavy kettle.\", \"Add sliced onions; brown well, stirring constantly.\", \"Add beef and chicken stock, the Worcestershire sauce, bay leaf, garlic salt and pepper.\", \"Allow to simmer for 40 minutes.\", \"Remove the bay leaf; add salt.\", \"Prepare with a slice of toasted French bread (1/2-inch thick).\", \"Add a thick slice of Swiss cheese (1/4-inch thick), overlapping the bowl.\", \"Put under the broiler until cheese is melted and bubbly.\"\n",
      "\"Put in unbaked pie shell.\", \"Top apples with 2 tablespoons margarine with crust.\", \"Brush milk on top of crust and sprinkle with sugar.\", \"Bake on bottom shelf at 400\\u00b0 for 45 minutes.\"\n",
      "\"Brown and drain hamburger.\", \"Add the remaining ingredients and simmer for 20 minutes.\"\n",
      "\"Mix sugar and butter thoroughly, then add egg, flour, egg, flour, etc. until all eggs and flour are mixed thoroughly, either with hand mixer or electric beater/mixer.\", \"Then add lemon flavor and your 7-Up (the 7-Up will make the cake rise); add yellow food coloring which is optional.\", \"Bake at 325\\u00b0 to 350\\u00b0 for 45 minutes to 1 hour, depending on oven.\", \"Insert toothpick after 45 minutes. Cook in Bundt pan. Let cool 25 minutes.\", \"Cake is done.\"\n",
      "\"Mix ingredients together until they are completely blended.\"\n",
      "\"Mix dry ingredients; add milk.\", \"Beat in egg yolks.\", \"Pour on 1 cup boiling water.\", \"Mix and cook until thick.\", \"Cool.\", \"Pour in baked pie shell.\", \"Cover with meringue and brown in oven.\"\n",
      "\"Spread Tater Tots in large cake pan, 9 x 13-inch. Brown meat and onions; drain well.\", \"Pour meat mixture over Tater Tots. Mix all 3 soups in a bowl.\", \"Pour over meat and Tater Tots. Sprinkle grated cheese to cover soup.\", \"Bake at 325\\u00b0 for 1 hour.\", \"As you brown meat and onions, salt and pepper well.\"\n",
      "\"Combine sugar, cornstarch and water in a heavy saucepan; cook over medium heat, stirring constantly, until thickened.\", \"Remove from heat; add gelatin, stirring until dissolved.\", \"Gently stir in blackberries.\", \"Pour into pastry shell.\", \"Chill until firm.\", \"Serve with Cool Whip or ice cream.\", \"Easy and so tasty.\"\n",
      "\"Mix Cool Whip, softened cream cheese and Eagle Brand milk. Beat for 1 minute.\", \"Pour in pie crusts.\", \"Melt margarine and mix with coconut and almonds.\", \"Place on cookie sheet and cook for 10 minutes at 350\\u00b0.\", \"Watch closely and stir often.\", \"(I like mine toasty.)\", \"Pour coconut, almond mixture over top of pies.\", \"Pour caramel topping over the 3 pies.\", \"Freeze.\"\n",
      "\"Mix all ingredients together.\", \"Let sit in refrigerator several hours before serving.\", \"Serve with raw cauliflower, broccoli, carrots, celery, mushrooms and cherry tomatoes.\"\n",
      "\"Fry onion in oil.\", \"Set aside.\", \"Cook broccoli as directed. Drain and set aside.\", \"Melt oleo.\", \"Grease 8 x 8-inch pan.\", \"Mix cornbread mix and eggs.\", \"Add cottage cheese, broccoli, onions and melted oleo margarine.\", \"Stir well.\", \"Pour into pan and bake at 450\\u00b0 for 20 to 25 minutes.\"\n",
      "\"Slice the vegetables.\", \"Cook in small amount of water until tender.\", \"Add the cooked macaroni, green beans and peas.\", \"Add bay leaf and Italian seasoning.\", \"Cook beef or turkey until it changes color.\", \"Add to vegetables.\", \"Pour in tomato juice.\", \"Bring to boil. Reduce to simmer.\", \"If soup is too thick, add more tomato juice.\"\n",
      "\"In saucepan, melt oleo; add cocoa.\", \"Combine remaining ingredients and add oleo-cocoa mixture.\", \"Bake in 9 x 13-inch pan for 30 minutes at 350\\u00b0.\", \"While still hot, punch holes in cake. Spread on cake, 1/2 cup peanut butter mixed with 1 1/2 tsp. oil.\"\n",
      "\"Preheat oven to 350\\u00b0 (325\\u00b0 for glass dish).\", \"In 13 x 9-inch pan, melt butter in oven.\", \"Sprinkle with crumbs.\", \"Top with Eagle Brand milk evenly.\", \"Top with remaining ingredients.\", \"Press down. Bake 25 to 30 minutes until lightly brown.\", \"Cool or chill.\", \"Cut into bars; store, loosely covered, at room temperature.\"\n",
      "\"Combine sugars and evaporated milk in heavy saucepan. Cook over medium heat. Stir in butter, pecans and coconut. Cook until candy reaches soft ball stage. (Mixture will form a soft ball when dropped in a cup of cold water.)\", \"Cool 2 minutes. Beat until thick, but glossy.\", \"Drop by tablespoon onto wax paper. Cool thoroughly.\"\n",
      "\"Make pudding as directed on package, then add vanilla wafers. Smooth on Cool Whip and sprinkle with pecans.\"\n",
      "\"Bring sugar, butter and milk to a boil and boil 1 minute. Remove from stove and add chocolate chips and vanilla and beat. (Might need about 1/2 cup powdered sugar.)\"\n",
      "\"Combine gelatine, spices, condensed milk and eggs on low heat until gelatine dissolves (10 minutes). Remove from heat. Stir in pumpkin.\", \"Pour in baked pie shells, then chill 3 hours. Garnish with Cool Whip and chopped pecans.\"\n",
      "\"Mix all well in medium bowl and cut one 16 ounce loaf of Italian bread into 1-inch slices. Dip bread into mixture and put into large glass baking dish. Pour any remaining mixture over bread. Refrigerate overnight.\"\n",
      "\"Pour cereal into a very large bowl.\", \"In a 1-quart bowl, combine chips, peanut butter and margarine; microwave on High for 1 to 1 1/2 minutes until smooth.\", \"(Stir after 1 minute.)\", \"Pour chocolate mixture over cereal, stirring all pieces until all are coated.\", \"Then little by little, add the powdered sugar.\", \"Stir well each time the powdered sugar is added.\", \"May not need entire box of powdered sugar.\"\n",
      "\"Preheat oven to 350\\u00b0.\", \"Peel wrappers off tamales and chop in large bowl.\", \"Drain hominy, olives and peppers.\", \"Add them to tamales.\", \"Mix well.\", \"Place in 9 x 13 x 3-inch baking dish.\", \"Spread out evenly.\", \"Sprinkle cheese over top and olives if desired.\", \"Bake 20 to 30 minutes.\", \"Serves 8.\", \"Serve with Spanish rice and corn chips.\"\n",
      "\"Layer the above ingredients in a 9 x 13 inch dish.\", \"Press down with spatula.\", \"Serve with Doritos.\"\n",
      "\"Can use dehydrated potato flakes.\", \"Add flour as desired. Dough should be soft and elastic.\", \"Bake as rolls or bread at 350\\u00b0. Bread is done when it sounds hollow when tapped.\"\n",
      "\"Combine the first five ingredients and place in a 9 x 12-inch casserole dish.\", \"Mix next four ingredients and pour over top of chicken mixture.\", \"Do not stir.\", \"Bake at 425\\u00b0 for 45 minutes to one hour until crust rises and browns.\"\n",
      "\"In medium-size saucepan, bring the stock to a boil over medium heat.\", \"Lower the heat, add the artichoke hearts, cover and simmer for about 10 minutes or until tender.\", \"With a slotted spoon, transfer the artichoke hearts to a bowl and cover to keep warm.\"\n",
      "\"Heat oil in large pot.\", \"Add all the vegetables and the garlic. Saute over medium heat for 15 minutes stirring frequently.\", \"Add tomatoes and tomato sauce and all the seasonings.\", \"Bring to a boil and then reduce heat.\", \"Cover and simmer for 3 to 4 hours.\", \"During the last hour of cooking, add the wine.\"\n",
      "\"Combine box cake mix, oil, instant pudding, ginger ale, eggs, and pecans.\", \"Pour into a 13 x 9-inch pan that has been greased and floured.\", \"Bake at 350\\u00b0 for 30 minutes. Cool and add topping when ready to serve. For topping the cake, mix cool whip, milk and pistachio instant pudding mix. Pour over cake and let set.\"\n",
      "\"Mix all ingredients together.\", \"Drop into greased muffin tins. Bake at 325\\u00b0 for 15 to 20 minutes or until done.\"\n",
      "\"Mix and put in punch bowl.\", \"Top with sherbert.\"\n",
      "\"With mixer, cream potatoes, butter and sugar until smooth and creamy.\", \"Watch out for strings in potatoes.\", \"Add eggs, one at a time.\", \"Mix after each egg.\", \"Add seasoning, then milk.\", \"Pour into unbaked pie shell.\", \"Bake at 350\\u00b0 for 45 minutes.\"\n",
      "\"Cream sugar and Crisco well.\", \"Add eggs, one at a time.\", \"Beat well.\", \"Add flour and milk alternately on medium.\", \"Last, add flavors.\", \"Beat 2 minutes.\", \"Heat oven to 325\\u00b0.\", \"Pour batter into greased and floured cake pan.\", \"Bake for 1 hour.\"\n",
      "\"Combine first 5 ingredients in a large mixing bowl; stir in carrots and next 4 ingredients.\", \"Make a well in center of mixture. Combine vegetable oil and remaining ingredients.\", \"Add to flour mixture, stirring until moistened.\", \"Place paper baking cups in muffin pans.\", \"Spoon batter into paper cups, filling 2/3 full. Bake at 350\\u00b0 for 25 minutes or until golden brown.\", \"Remove from pans immediately.\", \"Makes 22 muffins.\"\n",
      "\"Combine first 5 ingredients together.\", \"Pour into greased 9 x 13-inch microwave dish.\", \"Lay chicken breasts on top of rice mixture, with heavy side of breasts at corners of the dish.\", \"Brush with melted butter or margarine and sprinkle evenly with cornflake crumbs.\"\n",
      "\"Saute green pepper and onion in hot bacon drippings until tender. Add flour, salt, sugar and paprika.\", \"Stir until blended. Add tomatoes and simmer for about 15 minutes.\", \"Stir in green peas; heat through and serve.\"\n",
      "\"Mix eggs, bananas, butter and sugar in blender or food processor.\", \"Mix remaining ingredients.\", \"Add the two mixtures together.\", \"Pour in greased pan and bake at 350\\u00b0 for 45 minutes.\"\n",
      "\"Make dough according to Bisquick directions on box.\", \"Roll out until about 1 inch thick.\", \"(Shape, as you roll out into an oblong shape.)\", \"Thinly spread with a knife, mustard on top of dough. Then, salt and pepper lightly or to taste.\", \"Spread corned beef hash on top of the mustard, salt and pepper.\", \"Then, lengthwise, roll up securely and pan freeze.\", \"When frozen, take out and with a sharp knife, cut roll into 3/4 to 1 inch slices.\", \"Bake in moderate oven at approximately 350\\u00b0 for 15 or 20 minutes or freeze, individually and reheat frozen for a longer period of time.\", \"Whether you serve right away or serve after being frozen, pour on top either a cream cheese sauce or a sauce made of 1 can of cream of celery soup, adding a little water.\", \"A good lunch!!\"\n",
      "\"Mix all together and put in greased 9 x 13-inch casserole dish.\", \"Top with 2 cups corn flakes (crushed) and mixed with 1/2 cup melted margarine.\", \"Bake at 350\\u00b0 for 45 minutes.\"\n",
      "\"Combine dry ingredients.\", \"Cut in butter as you would for pie crust.\", \"Add milk and egg quickly and stir briefly.\", \"Knead for a few minutes.\", \"Roll to 1-inch thickness.\", \"Cut into biscuits.\", \"Bake at 450\\u00b0 for 12 to 15 minutes on greased cookie sheets.\"\n",
      "\"In a large skillet brown the hamburger.\", \"Drain the fat.\", \"Stir in the jar of spaghetti sauce.\", \"Heat until warm.\", \"In a 3 to 4-quart saucepan fill to about an inch below the rim with water. Bring to a boil and add noodles.\", \"Cook until soft.\", \"In a large baking pan (8 x 10-inch or bigger) cover the bottom with 4 noodles.\", \"Smother with Mozzarella (and Ricotta if you have it) and start your next layer of noodles.\", \"Bake in oven at 350\\u00b0 until cheese is melted.\"\n",
      "\"Boil the potatoes until done.\", \"Peel and slice while still warm.\", \"Stir while pouring on the vinegar and hot grease.\", \"Garnish with the bacon and chopped parsley, if available.\", \"Sprinkle with sugar if too tart due to the vinegar.\"\n",
      "\"Mix flour, sugar and coconut in a bowl.\", \"Beat eggs and add milk, butter and flavoring. Then add dry ingredients.\", \"Pour into well greased pie plate and bake at 350\\u00b0 for 45 minutes to 1 hour or until golden brown.\", \"This pie makes its own crust.\"\n",
      "\"Mix together ground beef with salt and pepper and enough flour to hold meat together.\", \"Roll into meat balls. Roll meat balls in more flour to coat. Drop meat balls into boiling water and cook. It will make its own gravy.\", \"Serve over rice or mashed potatoes. May add more seasoning to taste as these are very bland.\"\n",
      "\"Sift flour with baking powder, salt and sugar into a medium bowl.\", \"With rotary beater, beat egg.\", \"Add milk and butter; beat until well mixed.\", \"Pour this into dry ingredients; beat only until combined.\", \"Batter will be lumpy.\"\n",
      "\"Beat egg white until stiff.\", \"Add sugar and vanilla; mix well. Dip 2 or 3 pecans at a time.\", \"Place on ungreased baking sheet. Bake at 250\\u00b0 for 30 minutes.\", \"Leave in oven for 30 more minutes with the oven turned off.\"\n",
      "\"Brown beef; stir to crumble.\", \"Drain.\", \"Put beef into 8-inch baking dish.\", \"Top with sauce, Mozzarella cheese and sliced mushrooms.\", \"Combine the biscuit mix, milk and eggs; beat until smooth, then evenly pour over casserole.\", \"Bake at 400\\u00b0 for 30 to 35 minutes.\"\n",
      "\"Melt chocolate chips over hot (not boiling) water; stir until smooth.\", \"Add sweetened condensed milk, chocolate wafer crumbs and one-half cup of nuts; stir until well blended.\", \"Press into foil-lined 8-inch square pan.\", \"Press remaining 1/2 cup of nuts into top of brownies.\", \"Let stand at room temperature until firm. Cut into 2-inch squares.\"\n",
      "\"Cook broccoli according to directions on package.\", \"Drain. Arrange in dish.\", \"Combine other ingredients and cover broccoli. Sprinkle with grated cheese or crushed Ritz crackers.\", \"Bake at 350\\u00b0 for 40 minutes.\"\n",
      "\"Heat oven to 350\\u00b0.\", \"Mix flour, sugar, baking powder, salt, almond extract and eggs.\", \"Stir in remaining ingredients.\", \"Spread dough in greased pan (13 x 9 x 2-inch).\", \"Bake until light brown, 30 to 35 minutes.\"\n",
      "\"Brown hamburger. Add onion and celery until transparent; drain. Add soups, water, rice, soy sauce and pepper. Transfer to a casserole dish. Bake at 350\\u00b0 for 20 minutes. Top with chow mein noodles and cook for 10 minutes more.\"\n",
      "\"Cook until hard ball stage in cold water.\", \"Add 1/2 cup chopped almonds and cook until it reaches cracked candy stage, 300\\u00b0, on candy thermometer.\", \"Melt the 3 chocolate candy bars and pour on top and sprinkle chopped almonds.\"\n",
      "\"Prepare peppers (remove white sections).\", \"Mix ground beef, rice, egg and seasoning.\", \"Fill peppers; place in deep cooking vessel.\", \"Cover with V-8.\", \"Cook for 1 hour at 350\\u00b0.\"\n",
      "\"Beat eggs.\", \"Add cake mix, pudding, water and oil.\", \"Beat at medium speed for 10 minutes.\", \"Pour into an ungreased 10-inch tube pan with removable bottom.\", \"Bake at 350\\u00b0 about 50 minutes.\", \"Cool slightly and remove from pan.\"\n",
      "\"Cream butter, peanut butter, brown sugar and white sugar.\", \"Beat in egg and vanilla.\", \"Sift flour, baking soda and salt.\", \"Add flour mixture to creamed mixture.\", \"Shape into 1-inch balls.\", \"Spray miniature muffin pans with nonstick spray and place balls of dough in pans.\", \"Do not spread dough in cups.\", \"Bake at 350\\u00b0 for 8 to 10 minutes or lightly browned.\", \"Remove from heat and immediately press peanut butter cup into each cookie until only top shows.\", \"Let cool in tins for 10 to 15 minutes.\", \"These freeze well.\", \"Makes about 4 dozen.\"\n",
      "\"In greased baking dish, place croutons and Velveeta.\", \"Mix eggs, milk, mustard, salt, onion powder and pepper.\", \"Pour on top of cheese.\", \"Place crumbled bacon on top.\", \"Bake at 325\\u00b0 for 50 minutes.\"\n",
      "\"Cream butter and sugar until fluffy.\", \"Beat in egg.\", \"Stir together flour, salt, baking soda, cinnamon, nutmeg, cloves, raisins and pecans.\", \"Add to sugar mixture alternately with applesauce.\", \"Pour into greased 9 x 5 x 3-inch loaf pan.\", \"Bake in 325\\u00b0 oven for 1 hour or until knife inserted in center comes out clean.\"\n",
      "\"Stir together.\", \"Roll out as thin as you can on floured surface (use lots of flour).\", \"Roll up and slice whatever width you want. Gently toss to unroll.\", \"Drop in your favorite boiling broth. Gently boil about 8 minutes.\", \"These can be frozen by spreading noodles out on floured cookie sheet.\", \"Put in freezer until firm. Then store in freezer bags.\"\n",
      "\"Combine margarine, milk and sugar in Dutch oven.\", \"Place over medium\", \"heat\", \"until\", \"sugar\\tis dissolved.\", \"Heat slowly to boiling. Cover and boil 5 minutes.\\tTurn off heat if electric stove.\", \"If gas\", \"stove,\", \"turn\", \"warmer\", \"as low as possible.\", \"Add marshmallows. Stir\", \"until\", \"dissolved.\", \"Add each of chocolate, one at a\", \"time. Stir\", \"until\", \"melted.\", \"Add\", \"vanilla\\tand nuts. Pour into 15 x 10 x 1-inch pan.\", \"Cut when firm.\", \"Makes about 5 pounds.\"\n",
      "\"Beat eggs; stir in sugar.\", \"Sift flour, baking powder and salt. Combine with chocolate chips, nuts and cherries.\", \"Fold in egg-sugar mixture.\", \"Pour into well-greased and floured loaf pans. Place pan of water on bottom rack of oven and loaf pans on top rack.\", \"Bake at 325\\u00b0 for 1 to 1 1/2 hours.\"\n",
      "\"Combine softened butter or margarine, confectioners sugar and orange peel in a small bowl; blend well.\"\n",
      "\"Place flour, cocoa and sugar in a large mixing bowl.\", \"Stir to mix well.\", \"Add eggs, margarine, salt and vanilla.\", \"Beat with a whisk for about 4 minutes.\", \"Stir in nuts.\", \"Pour into a greased 8-inch pie pan and bake in preheated 325\\u00b0 oven until done, about 30 to 40 minutes.\", \"Pie will puff up and then settle down.\", \"Serve slightly warm with ice cream or whipped cream.\", \"Makes 8 servings.\"\n",
      "\"Boil water and margarine.\", \"Then add flour.\", \"Let cook; then add eggs one at a time.\", \"Spread in a 9 x 13-inch pan, sprayed with Pam.\", \"Bake at 350\\u00b0 for 35 minutes until brown.\", \"Cool.\", \"Mix instant pudding, milk and softened cream cheese.\", \"Spread on crust and top with Cool Whip.\", \"Drizzle with chocolate syrup.\", \"Chill 6 hours prior to serving.\"\n",
      "\"Line strainer with a double layer of cheesecloth.\", \"Place yogurt in the center and let drain for 1 hour.\", \"Place mandarin juice in a small pan and bring to a boil.\", \"Reduce heat and simmer for about 20 minutes until a very thick syrup remains.\", \"There should be about 2 tablespoons of syrup.\", \"Reserve.\", \"Whip the cream in a bowl with an electric mixture until it holds soft peaks.\", \"Place the drained yogurt in a bowl and stir in the mandarin syrup.\", \"Gently fold in the whipping cream with a rubber spatula.\", \"Makes 1 cup.\"\n",
      "\"Beat all ingredients together except peanut butter until mixture is very smooth, then add peanut butter and beat until smooth and well blended.\", \"Roll into balls and roll in sifted powdered sugar.\", \"Refrigerate.\", \"Makes about 100.\"\n",
      "\"In a small bowl, combine oil and garlic powder. Brush over the bread. Mix together thyme, marjoram, paprika and grated cheese. Place bread halves on a baking sheet; sprinkle with cheese and herb mixture. Bake in 425\\u00b0 oven for 7 to 9 minutes, until lightly browned. Cut each half into 5 slices.\"\n",
      "\"Combine pineapple, oranges, grapes, strawberries and apples. Sprinkle with lemon juice.\", \"Add marshmallows and chill.\"\n",
      "\"Cut up 1 cup strawberries.\", \"Add water.\", \"Cook for 2 minutes. Mix sugar and starch and add to fruit mixture.\", \"Cook until thick and clear.\", \"Add butter, lemon juice and salt; cool.\", \"Arrange berries in prepared pie crust.\", \"Top with cooked mixture.\", \"Chill at least 2 hours.\", \"Top with whipped cream and strawberry.\"\n",
      "\"Preheat oven to 400\\u00b0.\", \"Bake empty pie shell 5 minutes.\", \"Remove from oven; set aside.\"\n"
     ]
    }
   ],
   "source": [
    "text = stringify_directions(200)\n",
    "print(text)"
   ]
  },
  {
   "cell_type": "code",
   "execution_count": null,
   "metadata": {},
   "outputs": [
    {
     "data": {
      "text/plain": [
       "['\\n',\n",
       " ' ',\n",
       " '!',\n",
       " '\"',\n",
       " '%',\n",
       " \"'\",\n",
       " '(',\n",
       " ')',\n",
       " '*',\n",
       " ',',\n",
       " '-',\n",
       " '.',\n",
       " '/',\n",
       " '0',\n",
       " '1',\n",
       " '2',\n",
       " '3',\n",
       " '4',\n",
       " '5',\n",
       " '6',\n",
       " '7',\n",
       " '8',\n",
       " '9',\n",
       " ':',\n",
       " ';',\n",
       " 'A',\n",
       " 'B',\n",
       " 'C',\n",
       " 'D',\n",
       " 'E',\n",
       " 'F',\n",
       " 'G',\n",
       " 'H',\n",
       " 'I',\n",
       " 'J',\n",
       " 'K',\n",
       " 'L',\n",
       " 'M',\n",
       " 'N',\n",
       " 'O',\n",
       " 'P',\n",
       " 'Q',\n",
       " 'R',\n",
       " 'S',\n",
       " 'T',\n",
       " 'U',\n",
       " 'V',\n",
       " 'W',\n",
       " 'Y',\n",
       " 'Z',\n",
       " '\\\\',\n",
       " 'a',\n",
       " 'b',\n",
       " 'c',\n",
       " 'd',\n",
       " 'e',\n",
       " 'f',\n",
       " 'g',\n",
       " 'h',\n",
       " 'i',\n",
       " 'j',\n",
       " 'k',\n",
       " 'l',\n",
       " 'm',\n",
       " 'n',\n",
       " 'o',\n",
       " 'p',\n",
       " 'q',\n",
       " 'r',\n",
       " 's',\n",
       " 't',\n",
       " 'u',\n",
       " 'v',\n",
       " 'w',\n",
       " 'x',\n",
       " 'y',\n",
       " 'z']"
      ]
     },
     "execution_count": 239,
     "metadata": {},
     "output_type": "execute_result"
    }
   ],
   "source": [
    "vocab = sorted(set(text))\n",
    "vocab"
   ]
  },
  {
   "cell_type": "code",
   "execution_count": null,
   "metadata": {},
   "outputs": [
    {
     "data": {
      "text/plain": [
       "<tf.RaggedTensor [[b'b', b'o', b'b'],\n",
       " [b't', b'h', b'e', b' ', b'b', b'u', b'i', b'l', b'd', b'e', b'r']]>"
      ]
     },
     "execution_count": 240,
     "metadata": {},
     "output_type": "execute_result"
    }
   ],
   "source": [
    "import tensorflow as tf\n",
    "\n",
    "s = [\"bob\", \"the builder\"]\n",
    "s2 = [\"bob\", \"the maker\"]\n",
    "\n",
    "chars = tf.strings.unicode_split(s, input_encoding='UTF-8')\n",
    "chars"
   ]
  },
  {
   "cell_type": "code",
   "execution_count": null,
   "metadata": {},
   "outputs": [],
   "source": [
    "ids_from_chars = tf.keras.layers.StringLookup(\n",
    "    vocabulary=list(vocab), mask_token=None)"
   ]
  },
  {
   "cell_type": "code",
   "execution_count": null,
   "metadata": {},
   "outputs": [
    {
     "data": {
      "text/plain": [
       "<tf.RaggedTensor [[53, 66, 53], [71, 59, 56, 2, 53, 72, 60, 63, 55, 56, 69]]>"
      ]
     },
     "execution_count": 242,
     "metadata": {},
     "output_type": "execute_result"
    }
   ],
   "source": [
    "ids = ids_from_chars(chars)\n",
    "ids"
   ]
  },
  {
   "cell_type": "code",
   "execution_count": null,
   "metadata": {},
   "outputs": [],
   "source": [
    "chars_from_ids = tf.keras.layers.StringLookup(\n",
    "    vocabulary=ids_from_chars.get_vocabulary(), invert=True, mask_token=None)"
   ]
  },
  {
   "cell_type": "code",
   "execution_count": null,
   "metadata": {},
   "outputs": [
    {
     "data": {
      "text/plain": [
       "<tf.RaggedTensor [[b'b', b'o', b'b'],\n",
       " [b't', b'h', b'e', b' ', b'b', b'u', b'i', b'l', b'd', b'e', b'r']]>"
      ]
     },
     "execution_count": 244,
     "metadata": {},
     "output_type": "execute_result"
    }
   ],
   "source": [
    "chars = chars_from_ids(ids)\n",
    "chars"
   ]
  },
  {
   "cell_type": "code",
   "execution_count": null,
   "metadata": {},
   "outputs": [
    {
     "name": "stdout",
     "output_type": "stream",
     "text": [
      "tf.Tensor([b'bob' b'the builder'], shape=(2,), dtype=string)\n"
     ]
    }
   ],
   "source": [
    "def text_from_ids(ids):\n",
    "  return tf.strings.reduce_join(chars_from_ids(ids), axis=-1)\n",
    "\n",
    "\n",
    "print(text_from_ids(ids))"
   ]
  },
  {
   "cell_type": "code",
   "execution_count": null,
   "metadata": {},
   "outputs": [
    {
     "data": {
      "text/plain": [
       "<tf.Tensor: shape=(50390,), dtype=int64, numpy=array([ 4, 34, 65, ..., 56, 12,  4], dtype=int64)>"
      ]
     },
     "execution_count": 246,
     "metadata": {},
     "output_type": "execute_result"
    }
   ],
   "source": [
    "all_ids = ids_from_chars(tf.strings.unicode_split(text, 'UTF-8'))\n",
    "all_ids"
   ]
  },
  {
   "cell_type": "code",
   "execution_count": null,
   "metadata": {},
   "outputs": [],
   "source": [
    "ids_dataset = tf.data.Dataset.from_tensor_slices(all_ids)"
   ]
  },
  {
   "cell_type": "code",
   "execution_count": null,
   "metadata": {},
   "outputs": [
    {
     "name": "stdout",
     "output_type": "stream",
     "text": [
      "\"\n",
      "I\n",
      "n\n",
      " \n",
      "a\n",
      " \n",
      "h\n",
      "e\n",
      "a\n",
      "v\n"
     ]
    }
   ],
   "source": [
    "for ids in ids_dataset.take(10):\n",
    "    print(chars_from_ids(ids).numpy().decode('utf-8'))"
   ]
  },
  {
   "cell_type": "code",
   "execution_count": null,
   "metadata": {},
   "outputs": [],
   "source": [
    "seq_length = 100"
   ]
  },
  {
   "cell_type": "code",
   "execution_count": null,
   "metadata": {},
   "outputs": [
    {
     "name": "stdout",
     "output_type": "stream",
     "text": [
      "tf.Tensor(\n",
      "[b'\"' b'I' b'n' b' ' b'a' b' ' b'h' b'e' b'a' b'v' b'y' b' ' b'2' b'-'\n",
      " b'q' b'u' b'a' b'r' b't' b' ' b's' b'a' b'u' b'c' b'e' b'p' b'a' b'n'\n",
      " b',' b' ' b'm' b'i' b'x' b' ' b'b' b'r' b'o' b'w' b'n' b' ' b's' b'u'\n",
      " b'g' b'a' b'r' b',' b' ' b'n' b'u' b't' b's' b',' b' ' b'e' b'v' b'a'\n",
      " b'p' b'o' b'r' b'a' b't' b'e' b'd' b' ' b'm' b'i' b'l' b'k' b' ' b'a'\n",
      " b'n' b'd' b' ' b'b' b'u' b't' b't' b'e' b'r' b' ' b'o' b'r' b' ' b'm'\n",
      " b'a' b'r' b'g' b'a' b'r' b'i' b'n' b'e' b'.' b'\"' b',' b' ' b'\"' b'S'\n",
      " b't' b'i' b'r'], shape=(101,), dtype=string)\n"
     ]
    }
   ],
   "source": [
    "sequences = ids_dataset.batch(seq_length+1, drop_remainder=True)\n",
    "\n",
    "for seq in sequences.take(1):\n",
    "  print(chars_from_ids(seq))"
   ]
  },
  {
   "cell_type": "code",
   "execution_count": null,
   "metadata": {},
   "outputs": [
    {
     "name": "stdout",
     "output_type": "stream",
     "text": [
      "b'\"In a heavy 2-quart saucepan, mix brown sugar, nuts, evaporated milk and butter or margarine.\", \"Stir'\n",
      "b' over medium heat until mixture bubbles all over top.\", \"Boil and stir 5 minutes more. Take off heat.'\n",
      "b'\", \"Stir in vanilla and cereal; mix well.\", \"Using 2 teaspoons, drop and shape into 30 clusters on wa'\n",
      "b'x paper.\", \"Let stand until firm, about 30 minutes.\"\\n\"Place chipped beef on bottom of baking dish.\", '\n",
      "b'\"Place chicken on top of beef.\", \"Mix soup and cream together; pour over chicken. Bake, uncovered, at'\n"
     ]
    }
   ],
   "source": [
    "for seq in sequences.take(5):\n",
    "  print(text_from_ids(seq).numpy())"
   ]
  },
  {
   "cell_type": "code",
   "execution_count": null,
   "metadata": {},
   "outputs": [],
   "source": [
    "def split_input_target(sequence):\n",
    "    input_text = sequence[:-1]\n",
    "    target_text = sequence[1:]\n",
    "    return input_text, target_text"
   ]
  },
  {
   "cell_type": "code",
   "execution_count": null,
   "metadata": {},
   "outputs": [],
   "source": [
    "dataset = sequences.map(split_input_target)"
   ]
  },
  {
   "cell_type": "code",
   "execution_count": null,
   "metadata": {},
   "outputs": [
    {
     "name": "stdout",
     "output_type": "stream",
     "text": [
      "Input : b'\"In a heavy 2-quart saucepan, mix brown sugar, nuts, evaporated milk and butter or margarine.\", \"Sti'\n",
      "Target: b'In a heavy 2-quart saucepan, mix brown sugar, nuts, evaporated milk and butter or margarine.\", \"Stir'\n"
     ]
    }
   ],
   "source": [
    "for input_example, target_example in dataset.take(1):\n",
    "    print(\"Input :\", text_from_ids(input_example).numpy())\n",
    "    print(\"Target:\", text_from_ids(target_example).numpy())"
   ]
  },
  {
   "cell_type": "code",
   "execution_count": null,
   "metadata": {},
   "outputs": [
    {
     "data": {
      "text/plain": [
       "<_PrefetchDataset element_spec=(TensorSpec(shape=(64, 100), dtype=tf.int64, name=None), TensorSpec(shape=(64, 100), dtype=tf.int64, name=None))>"
      ]
     },
     "execution_count": 255,
     "metadata": {},
     "output_type": "execute_result"
    }
   ],
   "source": [
    "# Batch size\n",
    "BATCH_SIZE = 64\n",
    "\n",
    "# Buffer size to shuffle the dataset\n",
    "# (TF data is designed to work with possibly infinite sequences,\n",
    "# so it doesn't attempt to shuffle the entire sequence in memory. Instead,\n",
    "# it maintains a buffer in which it shuffles elements).\n",
    "BUFFER_SIZE = 10000\n",
    "\n",
    "dataset = (\n",
    "    dataset\n",
    "    .shuffle(BUFFER_SIZE)\n",
    "    .batch(BATCH_SIZE, drop_remainder=True)\n",
    "    .prefetch(tf.data.experimental.AUTOTUNE))\n",
    "\n",
    "dataset"
   ]
  },
  {
   "cell_type": "code",
   "execution_count": null,
   "metadata": {},
   "outputs": [],
   "source": [
    "# Length of the vocabulary in StringLookup Layer\n",
    "vocab_size = len(ids_from_chars.get_vocabulary())\n",
    "\n",
    "# The embedding dimension\n",
    "embedding_dim = 256\n",
    "\n",
    "# Number of RNN units\n",
    "rnn_units = 1024"
   ]
  },
  {
   "cell_type": "code",
   "execution_count": null,
   "metadata": {},
   "outputs": [],
   "source": [
    "class MyModel(tf.keras.Model):\n",
    "  def __init__(self, vocab_size, embedding_dim, rnn_units):\n",
    "    super().__init__(self)\n",
    "    self.embedding = tf.keras.layers.Embedding(vocab_size, embedding_dim)\n",
    "    self.gru = tf.keras.layers.GRU(rnn_units,\n",
    "                                   return_sequences=True,\n",
    "                                   return_state=True)\n",
    "    self.dense = tf.keras.layers.Dense(vocab_size)\n",
    "\n",
    "  def call(self, inputs, states=None, return_state=False, training=False):\n",
    "    x = inputs\n",
    "    x = self.embedding(x, training=training)\n",
    "    if states is None:\n",
    "      states = self.gru.get_initial_state(x)\n",
    "    x, states = self.gru(x, initial_state=states, training=training)\n",
    "    x = self.dense(x, training=training)\n",
    "\n",
    "    if return_state:\n",
    "      return x, states\n",
    "    else:\n",
    "      return x"
   ]
  },
  {
   "cell_type": "code",
   "execution_count": null,
   "metadata": {},
   "outputs": [],
   "source": [
    "model = MyModel(\n",
    "    vocab_size=vocab_size,\n",
    "    embedding_dim=embedding_dim,\n",
    "    rnn_units=rnn_units)"
   ]
  },
  {
   "cell_type": "code",
   "execution_count": null,
   "metadata": {},
   "outputs": [
    {
     "name": "stdout",
     "output_type": "stream",
     "text": [
      "(64, 100, 78) # (batch_size, sequence_length, vocab_size)\n"
     ]
    }
   ],
   "source": [
    "for input_example_batch, target_example_batch in dataset.take(1):\n",
    "    example_batch_predictions = model(input_example_batch)\n",
    "    print(example_batch_predictions.shape, \"# (batch_size, sequence_length, vocab_size)\")"
   ]
  },
  {
   "cell_type": "code",
   "execution_count": null,
   "metadata": {},
   "outputs": [
    {
     "name": "stdout",
     "output_type": "stream",
     "text": [
      "Model: \"my_model_5\"\n",
      "_________________________________________________________________\n",
      " Layer (type)                Output Shape              Param #   \n",
      "=================================================================\n",
      " embedding_5 (Embedding)     multiple                  19968     \n",
      "                                                                 \n",
      " gru_4 (GRU)                 multiple                  3938304   \n",
      "                                                                 \n",
      " dense_4 (Dense)             multiple                  79950     \n",
      "                                                                 \n",
      "=================================================================\n",
      "Total params: 4038222 (15.40 MB)\n",
      "Trainable params: 4038222 (15.40 MB)\n",
      "Non-trainable params: 0 (0.00 Byte)\n",
      "_________________________________________________________________\n"
     ]
    }
   ],
   "source": [
    "model.summary()\n"
   ]
  },
  {
   "cell_type": "code",
   "execution_count": null,
   "metadata": {},
   "outputs": [],
   "source": [
    "sampled_indices = tf.random.categorical(example_batch_predictions[0], num_samples=1)\n",
    "sampled_indices = tf.squeeze(sampled_indices, axis=-1).numpy()"
   ]
  },
  {
   "cell_type": "code",
   "execution_count": null,
   "metadata": {},
   "outputs": [
    {
     "data": {
      "text/plain": [
       "array([60, 35, 63, 45, 54, 59, 52, 35, 10, 66, 14, 66,  8, 34, 34, 45, 48,\n",
       "       48, 69, 65,  0,  7, 42, 71,  7, 76, 42, 63, 37,  5, 71, 42,  9, 35,\n",
       "       61, 60, 34, 61, 13, 76, 25, 62, 65, 64, 73, 22, 43, 56, 34, 39, 18,\n",
       "       57, 77, 15, 76, 59, 18, 26, 37, 33, 47, 76, 42, 27, 49, 73, 54, 75,\n",
       "        8, 57, 30, 33,  7, 62, 76, 72, 61, 40,  9, 65, 68,  7, 19, 12, 69,\n",
       "       23, 43, 36, 10, 32,  1, 47, 63, 48, 16, 51, 73, 35, 53, 52],\n",
       "      dtype=int64)"
      ]
     },
     "execution_count": 262,
     "metadata": {},
     "output_type": "execute_result"
    }
   ],
   "source": [
    "sampled_indices"
   ]
  },
  {
   "cell_type": "code",
   "execution_count": null,
   "metadata": {},
   "outputs": [
    {
     "name": "stdout",
     "output_type": "stream",
     "text": [
      "Input:\n",
      " b'rator.\"\\n\"Wash potatoes; prick several times with a fork.\", \"Microwave them with a wet paper towel co'\n",
      "\n",
      "Next Char Predictions:\n",
      " b'iJlTchaJ,o0o)IITWWrn[UNK](Qt(yQlL%tQ*JjiIj/y;knmv8ReIN4fz1yh4ALHVyQBYvcx)fEH(kyujO*nq(5.r9RK,G\\nVlW2\\\\vJba'\n"
     ]
    }
   ],
   "source": [
    "print(\"Input:\\n\", text_from_ids(input_example_batch[0]).numpy())\n",
    "print()\n",
    "print(\"Next Char Predictions:\\n\", text_from_ids(sampled_indices).numpy())"
   ]
  },
  {
   "cell_type": "code",
   "execution_count": null,
   "metadata": {},
   "outputs": [],
   "source": [
    "loss = tf.losses.SparseCategoricalCrossentropy(from_logits=True)\n"
   ]
  },
  {
   "cell_type": "code",
   "execution_count": null,
   "metadata": {},
   "outputs": [
    {
     "name": "stdout",
     "output_type": "stream",
     "text": [
      "Prediction shape:  (64, 100, 78)  # (batch_size, sequence_length, vocab_size)\n",
      "Mean loss:         tf.Tensor(4.359045, shape=(), dtype=float32)\n"
     ]
    }
   ],
   "source": [
    "example_batch_mean_loss = loss(target_example_batch, example_batch_predictions)\n",
    "print(\"Prediction shape: \", example_batch_predictions.shape, \" # (batch_size, sequence_length, vocab_size)\")\n",
    "print(\"Mean loss:        \", example_batch_mean_loss)"
   ]
  },
  {
   "cell_type": "code",
   "execution_count": null,
   "metadata": {},
   "outputs": [
    {
     "data": {
      "text/plain": [
       "78.182434"
      ]
     },
     "execution_count": 266,
     "metadata": {},
     "output_type": "execute_result"
    }
   ],
   "source": [
    "tf.exp(example_batch_mean_loss).numpy()"
   ]
  },
  {
   "cell_type": "code",
   "execution_count": null,
   "metadata": {},
   "outputs": [],
   "source": [
    "model.compile(optimizer='adam', loss=loss)\n"
   ]
  },
  {
   "cell_type": "code",
   "execution_count": null,
   "metadata": {},
   "outputs": [],
   "source": [
    "import os\n",
    "# Directory where the checkpoints will be saved\n",
    "checkpoint_dir = './training_checkpoints'\n",
    "# Name of the checkpoint files\n",
    "checkpoint_prefix = os.path.join(checkpoint_dir, \"ckpt_{epoch}\")\n",
    "\n",
    "checkpoint_callback = tf.keras.callbacks.ModelCheckpoint(\n",
    "    filepath=checkpoint_prefix,\n",
    "    save_weights_only=True)"
   ]
  },
  {
   "cell_type": "code",
   "execution_count": null,
   "metadata": {},
   "outputs": [],
   "source": [
    "EPOCHS = 100"
   ]
  },
  {
   "cell_type": "code",
   "execution_count": null,
   "metadata": {},
   "outputs": [
    {
     "name": "stdout",
     "output_type": "stream",
     "text": [
      "Epoch 1/100\n"
     ]
    },
    {
     "name": "stdout",
     "output_type": "stream",
     "text": [
      "7/7 [==============================] - 22s 3s/step - loss: 4.4587\n",
      "Epoch 2/100\n",
      "7/7 [==============================] - 19s 3s/step - loss: 4.1745\n",
      "Epoch 3/100\n",
      "7/7 [==============================] - 19s 3s/step - loss: 4.0549\n",
      "Epoch 4/100\n",
      "7/7 [==============================] - 18s 3s/step - loss: 3.4896\n",
      "Epoch 5/100\n",
      "7/7 [==============================] - 18s 3s/step - loss: 3.1485\n",
      "Epoch 6/100\n",
      "7/7 [==============================] - 20s 3s/step - loss: 2.9960\n",
      "Epoch 7/100\n",
      "7/7 [==============================] - 19s 3s/step - loss: 2.8366\n",
      "Epoch 8/100\n",
      "7/7 [==============================] - 19s 3s/step - loss: 2.6634\n",
      "Epoch 9/100\n",
      "7/7 [==============================] - 19s 3s/step - loss: 2.5297\n",
      "Epoch 10/100\n",
      "7/7 [==============================] - 18s 3s/step - loss: 2.4189\n",
      "Epoch 11/100\n",
      "7/7 [==============================] - 17s 2s/step - loss: 2.3281\n",
      "Epoch 12/100\n",
      "7/7 [==============================] - 19s 3s/step - loss: 2.2606\n",
      "Epoch 13/100\n",
      "7/7 [==============================] - 18s 3s/step - loss: 2.2003\n",
      "Epoch 14/100\n",
      "7/7 [==============================] - 18s 2s/step - loss: 2.1500\n",
      "Epoch 15/100\n",
      "7/7 [==============================] - 18s 3s/step - loss: 2.1032\n",
      "Epoch 16/100\n",
      "7/7 [==============================] - 19s 3s/step - loss: 2.0614\n",
      "Epoch 17/100\n",
      "7/7 [==============================] - 18s 3s/step - loss: 2.0209\n",
      "Epoch 18/100\n",
      "7/7 [==============================] - 20s 3s/step - loss: 1.9833\n",
      "Epoch 19/100\n",
      "7/7 [==============================] - 21s 3s/step - loss: 1.9400\n",
      "Epoch 20/100\n",
      "7/7 [==============================] - 21s 3s/step - loss: 1.9136\n",
      "Epoch 21/100\n",
      "7/7 [==============================] - 18s 2s/step - loss: 1.8723\n",
      "Epoch 22/100\n",
      "7/7 [==============================] - 17s 2s/step - loss: 1.8356\n",
      "Epoch 23/100\n",
      "7/7 [==============================] - 20s 3s/step - loss: 1.8024\n",
      "Epoch 24/100\n",
      "7/7 [==============================] - 22s 3s/step - loss: 1.7621\n",
      "Epoch 25/100\n",
      "7/7 [==============================] - 20s 3s/step - loss: 1.7267\n",
      "Epoch 26/100\n",
      "7/7 [==============================] - 20s 3s/step - loss: 1.6878\n",
      "Epoch 27/100\n",
      "7/7 [==============================] - 20s 3s/step - loss: 1.6566\n",
      "Epoch 28/100\n",
      "7/7 [==============================] - 21s 3s/step - loss: 1.6239\n",
      "Epoch 29/100\n",
      "7/7 [==============================] - 20s 3s/step - loss: 1.5890\n",
      "Epoch 30/100\n",
      "7/7 [==============================] - 20s 3s/step - loss: 1.5343\n",
      "Epoch 31/100\n",
      "7/7 [==============================] - 19s 3s/step - loss: 1.5064\n",
      "Epoch 32/100\n",
      "7/7 [==============================] - 20s 3s/step - loss: 1.4845\n",
      "Epoch 33/100\n",
      "7/7 [==============================] - 22s 3s/step - loss: 1.4409\n",
      "Epoch 34/100\n",
      "7/7 [==============================] - 21s 3s/step - loss: 1.4071\n",
      "Epoch 35/100\n",
      "7/7 [==============================] - 19s 3s/step - loss: 1.3825\n",
      "Epoch 36/100\n",
      "7/7 [==============================] - 18s 3s/step - loss: 1.3318\n",
      "Epoch 37/100\n",
      "7/7 [==============================] - 19s 3s/step - loss: 1.3179\n",
      "Epoch 38/100\n",
      "7/7 [==============================] - 17s 2s/step - loss: 1.2867\n",
      "Epoch 39/100\n",
      "7/7 [==============================] - 20s 3s/step - loss: 1.2563\n",
      "Epoch 40/100\n",
      "7/7 [==============================] - 17s 2s/step - loss: 1.2220\n",
      "Epoch 41/100\n",
      "7/7 [==============================] - 18s 3s/step - loss: 1.2040\n",
      "Epoch 42/100\n",
      "7/7 [==============================] - 19s 3s/step - loss: 1.1718\n",
      "Epoch 43/100\n",
      "7/7 [==============================] - 22s 3s/step - loss: 1.1379\n",
      "Epoch 44/100\n",
      "7/7 [==============================] - 22s 3s/step - loss: 1.1182\n",
      "Epoch 45/100\n",
      "7/7 [==============================] - 21s 3s/step - loss: 1.0814\n",
      "Epoch 46/100\n",
      "7/7 [==============================] - 18s 3s/step - loss: 1.0631\n",
      "Epoch 47/100\n",
      "7/7 [==============================] - 19s 3s/step - loss: 1.0335\n",
      "Epoch 48/100\n",
      "7/7 [==============================] - 17s 2s/step - loss: 1.0011\n",
      "Epoch 49/100\n",
      "7/7 [==============================] - 18s 2s/step - loss: 0.9808\n",
      "Epoch 50/100\n",
      "7/7 [==============================] - 19s 3s/step - loss: 0.9498\n",
      "Epoch 51/100\n",
      "7/7 [==============================] - 22s 3s/step - loss: 0.9264\n",
      "Epoch 52/100\n",
      "7/7 [==============================] - 21s 3s/step - loss: 0.8995\n",
      "Epoch 53/100\n",
      "7/7 [==============================] - 18s 3s/step - loss: 0.8715\n",
      "Epoch 54/100\n",
      "7/7 [==============================] - 17s 2s/step - loss: 0.8467\n",
      "Epoch 55/100\n",
      "7/7 [==============================] - 19s 3s/step - loss: 0.8233\n",
      "Epoch 56/100\n",
      "7/7 [==============================] - 18s 3s/step - loss: 0.8066\n",
      "Epoch 57/100\n",
      "7/7 [==============================] - 19s 3s/step - loss: 0.7758\n",
      "Epoch 58/100\n",
      "7/7 [==============================] - 19s 3s/step - loss: 0.7525\n",
      "Epoch 59/100\n",
      "7/7 [==============================] - 19s 3s/step - loss: 0.7268\n",
      "Epoch 60/100\n",
      "7/7 [==============================] - 18s 3s/step - loss: 0.7066\n",
      "Epoch 61/100\n",
      "7/7 [==============================] - 18s 3s/step - loss: 0.6764\n",
      "Epoch 62/100\n",
      "7/7 [==============================] - 18s 3s/step - loss: 0.6589\n",
      "Epoch 63/100\n",
      "7/7 [==============================] - 18s 3s/step - loss: 0.6244\n",
      "Epoch 64/100\n",
      "7/7 [==============================] - 16s 2s/step - loss: 0.6001\n",
      "Epoch 65/100\n",
      "7/7 [==============================] - 17s 2s/step - loss: 0.5726\n",
      "Epoch 66/100\n",
      "7/7 [==============================] - 17s 2s/step - loss: 0.5499\n",
      "Epoch 67/100\n",
      "7/7 [==============================] - 21s 3s/step - loss: 0.5258\n",
      "Epoch 68/100\n",
      "7/7 [==============================] - 19s 3s/step - loss: 0.5024\n",
      "Epoch 69/100\n",
      "7/7 [==============================] - 17s 2s/step - loss: 0.4738\n",
      "Epoch 70/100\n",
      "7/7 [==============================] - 17s 2s/step - loss: 0.4525\n",
      "Epoch 71/100\n",
      "7/7 [==============================] - 17s 2s/step - loss: 0.4287\n",
      "Epoch 72/100\n",
      "7/7 [==============================] - 17s 2s/step - loss: 0.4079\n",
      "Epoch 73/100\n",
      "7/7 [==============================] - 17s 2s/step - loss: 0.3896\n",
      "Epoch 74/100\n",
      "7/7 [==============================] - 17s 2s/step - loss: 0.3692\n",
      "Epoch 75/100\n",
      "7/7 [==============================] - 18s 3s/step - loss: 0.3475\n",
      "Epoch 76/100\n",
      "7/7 [==============================] - 21s 3s/step - loss: 0.3327\n",
      "Epoch 77/100\n",
      "7/7 [==============================] - 19s 3s/step - loss: 0.3109\n",
      "Epoch 78/100\n",
      "7/7 [==============================] - 17s 2s/step - loss: 0.2930\n",
      "Epoch 79/100\n",
      "7/7 [==============================] - 18s 3s/step - loss: 0.2757\n",
      "Epoch 80/100\n",
      "7/7 [==============================] - 17s 2s/step - loss: 0.2579\n",
      "Epoch 81/100\n",
      "7/7 [==============================] - 16s 2s/step - loss: 0.2439\n",
      "Epoch 82/100\n",
      "7/7 [==============================] - 17s 2s/step - loss: 0.2297\n",
      "Epoch 83/100\n",
      "7/7 [==============================] - 17s 2s/step - loss: 0.2154\n",
      "Epoch 84/100\n",
      "7/7 [==============================] - 17s 2s/step - loss: 0.2046\n",
      "Epoch 85/100\n",
      "7/7 [==============================] - 17s 2s/step - loss: 0.1951\n",
      "Epoch 86/100\n",
      "7/7 [==============================] - 17s 2s/step - loss: 0.1858\n",
      "Epoch 87/100\n",
      "7/7 [==============================] - 19s 3s/step - loss: 0.1757\n",
      "Epoch 88/100\n",
      "7/7 [==============================] - 18s 3s/step - loss: 0.1636\n",
      "Epoch 89/100\n",
      "7/7 [==============================] - 16s 2s/step - loss: 0.1556\n",
      "Epoch 90/100\n",
      "7/7 [==============================] - 17s 2s/step - loss: 0.1480\n",
      "Epoch 91/100\n",
      "7/7 [==============================] - 16s 2s/step - loss: 0.1397\n",
      "Epoch 92/100\n",
      "7/7 [==============================] - 23s 3s/step - loss: 0.1338\n",
      "Epoch 93/100\n",
      "7/7 [==============================] - 21s 3s/step - loss: 0.1277\n",
      "Epoch 94/100\n",
      "7/7 [==============================] - 21s 3s/step - loss: 0.1219\n",
      "Epoch 95/100\n",
      "7/7 [==============================] - 20s 3s/step - loss: 0.1157\n",
      "Epoch 96/100\n",
      "7/7 [==============================] - 22s 3s/step - loss: 0.1097\n",
      "Epoch 97/100\n",
      "7/7 [==============================] - 18s 3s/step - loss: 0.1050\n",
      "Epoch 98/100\n",
      "7/7 [==============================] - 20s 3s/step - loss: 0.0993\n",
      "Epoch 99/100\n",
      "7/7 [==============================] - 21s 3s/step - loss: 0.0963\n",
      "Epoch 100/100\n",
      "7/7 [==============================] - 18s 3s/step - loss: 0.0915\n"
     ]
    }
   ],
   "source": [
    "history = model.fit(dataset, epochs=EPOCHS, callbacks=[checkpoint_callback])"
   ]
  },
  {
   "cell_type": "code",
   "execution_count": null,
   "metadata": {},
   "outputs": [],
   "source": [
    "class OneStep(tf.keras.Model):\n",
    "  def __init__(self, model, chars_from_ids, ids_from_chars, temperature=1.0):\n",
    "    super().__init__()\n",
    "    self.temperature = temperature\n",
    "    self.model = model\n",
    "    self.chars_from_ids = chars_from_ids\n",
    "    self.ids_from_chars = ids_from_chars\n",
    "\n",
    "    # Create a mask to prevent \"[UNK]\" from being generated.\n",
    "    skip_ids = self.ids_from_chars(['[UNK]'])[:, None]\n",
    "    sparse_mask = tf.SparseTensor(\n",
    "        # Put a -inf at each bad index.\n",
    "        values=[-float('inf')]*len(skip_ids),\n",
    "        indices=skip_ids,\n",
    "        # Match the shape to the vocabulary\n",
    "        dense_shape=[len(ids_from_chars.get_vocabulary())])\n",
    "    self.prediction_mask = tf.sparse.to_dense(sparse_mask)\n",
    "\n",
    "  @tf.function\n",
    "  def generate_one_step(self, inputs, states=None):\n",
    "    # Convert strings to token IDs.\n",
    "    input_chars = tf.strings.unicode_split(inputs, 'UTF-8')\n",
    "    input_ids = self.ids_from_chars(input_chars).to_tensor()\n",
    "\n",
    "    # Run the model.\n",
    "    # predicted_logits.shape is [batch, char, next_char_logits]\n",
    "    predicted_logits, states = self.model(inputs=input_ids, states=states,\n",
    "                                          return_state=True)\n",
    "    # Only use the last prediction.\n",
    "    predicted_logits = predicted_logits[:, -1, :]\n",
    "    print(f\"predicted logits: {predicted_logits}\")\n",
    "    predicted_logits = predicted_logits/self.temperature\n",
    "    # Apply the prediction mask: prevent \"[UNK]\" from being generated.\n",
    "    predicted_logits = predicted_logits + self.prediction_mask\n",
    "\n",
    "    # Sample the output logits to generate token IDs.\n",
    "    predicted_ids = tf.random.categorical(predicted_logits, num_samples=1)\n",
    "    print(f'categorical: {predicted_ids}')\n",
    "    predicted_ids = tf.squeeze(predicted_ids, axis=-1)\n",
    "    print(f'squeeze: {predicted_ids}')\n",
    "\n",
    "    # Convert from token ids to characters\n",
    "    predicted_chars = self.chars_from_ids(predicted_ids)\n",
    "\n",
    "    # Return the characters and model state.\n",
    "    return predicted_chars, states"
   ]
  },
  {
   "cell_type": "code",
   "execution_count": null,
   "metadata": {},
   "outputs": [],
   "source": [
    "one_step_model = OneStep(model, chars_from_ids, ids_from_chars)\n"
   ]
  },
  {
   "cell_type": "code",
   "execution_count": null,
   "metadata": {},
   "outputs": [
    {
     "name": "stdout",
     "output_type": "stream",
     "text": [
      "\"1 egg, one bag of corn flour, one apple, two carrots, 1/2 cup of urine\", \"Thing \"y large borings.\", \"Drain cream cheese in milt.\", \"Remove from pan.\"\n",
      "\"Mix iaster and Criln seasoning.\", \"Cook beef remaining ingredients.\", \"Puen\", \"reserved noodles, soup mix, broccoli, cornstarch and well browned.\", \"Cut ih everly bitter oil allovailing whipped cream.\", \"Mix well.\", \"Pour into an oblong shepper cake mix directions).\"\n",
      "\"Mix Cool Whip, solt jall quickly and pour into buttently.\", \"Add 1/2 cup sugar and frout (hely.\", \"Sprinkle cheese ov rot into greased mix dry ingredients.\", \"Combine tomato sauce, water, brown sugar, mustard, salt and pepper.\", \"Allow to square pan, 8 x 8-inch pan.\", \"Next mix Eagle Brang tigether to cheese until smooth.\", \"Add gelatin and beat at high speed untill sorm cream the hut in a garales and remeid for 1 hour.\", \"Combine tomato sigers and chif in salt.\", \"Add Minger with whites encold cheese (1/4-inch thickness, saucepan, mix brown sugar, nuts.\", \"Mix with cansy.\", \"Add milk and egg qoill 3 highlly.\"\n",
      "\"Combine water, butter, sugar and \n",
      "\n",
      "________________________________________________________________________________\n",
      "\n",
      "Run time: 3.0224082469940186\n"
     ]
    }
   ],
   "source": [
    "import time \n",
    "\n",
    "start = time.time()\n",
    "states = None\n",
    "next_char = tf.constant(['\"1 egg, one bag of corn flour, one apple, two carrots, 1/2 cup of urine\"'])\n",
    "result = [next_char]\n",
    "\n",
    "for n in range(1000):\n",
    "  next_char, states = one_step_model.generate_one_step(next_char, states=states)\n",
    "  result.append(next_char)\n",
    "\n",
    "result = tf.strings.join(result)\n",
    "end = time.time()\n",
    "print(result[0].numpy().decode('utf-8'), '\\n\\n' + '_'*80)\n",
    "print('\\nRun time:', end - start)"
   ]
  },
  {
   "cell_type": "code",
   "execution_count": null,
   "metadata": {},
   "outputs": [
    {
     "name": "stdout",
     "output_type": "stream",
     "text": [
      "\"Two cups of milk, one scoop of brown sugar and oil; let stand overn 1/2 cup of nuts until tender.\", \"Mix eggs, entar and cook; then and beat until smooth and well bello; stir tile peaky at rediege the chicken bottom.\", \"Bake at 350\\u00b0 for 1 hour.\", \"Let stand 5 minutes before slicing.\", \"Makes 8 servings.\"\n",
      "\"Aloul hots in pan; ddain. Axt 3 ingredients.\", \"Cover.\"\n",
      "\"Drop batter pileclion for 5 minutes. Yield: 2 1/3 dozen.\"\n",
      "\"In a 6-quart punch bowl mix all of the cansf tamales.\", \"Spread Top Chips.\"\n",
      "\"Mix ground beef and cheese; pinch sides together.\"\n",
      "\"Mix and lolf pinest of waxmprate mixture over top.\", \"Mix in saucepan, mix brown sugar, nuts and cheese; pinch sides together.\"\n",
      "\"Mix ingredients and simmer for 40 minutes.\", \"Serve hot over corn chips.\"\n",
      "\"Sift first 5id ingredients together firm wowh th tomatoes until done, about 30 to 30 minutes.\"\n",
      "\"Brown beef with onions.\", \"Add greased 8 x 8 x 2-inches or until for 1 to 1 1/2 minutes cour of Ifel ard 1/2 cup of bacon.\", \"Cook until heated (do not boil).\", \"Sprinkle with remaining \n",
      "\n",
      "________________________________________________________________________________\n",
      "\n",
      "Run time: 2.915971517562866\n"
     ]
    }
   ],
   "source": [
    "\n",
    "start = time.time()\n",
    "states = None\n",
    "next_char = tf.constant(['\"Two cups of milk, one scoop of brown sugar'])\n",
    "result = [next_char]\n",
    "\n",
    "for n in range(1000):\n",
    "  next_char, states = one_step_model.generate_one_step(next_char, states=states)\n",
    "  result.append(next_char)\n",
    "\n",
    "result = tf.strings.join(result)\n",
    "end = time.time()\n",
    "print(result[0].numpy().decode('utf-8'), '\\n\\n' + '_'*80)\n",
    "print('\\nRun time:', end - start)"
   ]
  }
 ],
 "metadata": {
  "kernelspec": {
   "display_name": "ml_env",
   "language": "python",
   "name": "python3"
  },
  "language_info": {
   "codemirror_mode": {
    "name": "ipython",
    "version": 3
   },
   "file_extension": ".py",
   "mimetype": "text/x-python",
   "name": "python",
   "nbconvert_exporter": "python",
   "pygments_lexer": "ipython3",
   "version": "3.10.13"
  }
 },
 "nbformat": 4,
 "nbformat_minor": 2
}
